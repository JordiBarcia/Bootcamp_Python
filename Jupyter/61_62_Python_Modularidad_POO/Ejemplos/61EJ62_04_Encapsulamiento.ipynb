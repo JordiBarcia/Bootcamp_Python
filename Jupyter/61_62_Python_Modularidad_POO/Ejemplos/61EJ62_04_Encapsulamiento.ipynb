{
 "cells": [
  {
   "cell_type": "markdown",
   "metadata": {},
   "source": [
    "### atributo protegido _ vs privado __"
   ]
  },
  {
   "cell_type": "code",
   "execution_count": 49,
   "metadata": {},
   "outputs": [],
   "source": [
    "class A:\n",
    "    def __init__(self):\n",
    "        self._contador = 0 # Este atributo es privado\n",
    "    def incrementa(self):\n",
    "        self._contador += 1\n",
    "    def cuenta(self):\n",
    "        return self._contador\n",
    "\n",
    "class B(object):\n",
    "    def __init__(self):\n",
    "        self.__contador = 0 # Este atributo es privado\n",
    "    def incrementa(self):\n",
    "        self.__contador += 1\n",
    "    def cuenta(self):\n",
    "        return self.__contador\n",
    "\n"
   ]
  },
  {
   "cell_type": "code",
   "execution_count": 50,
   "metadata": {},
   "outputs": [
    {
     "data": {
      "text/plain": [
       "3"
      ]
     },
     "execution_count": 50,
     "metadata": {},
     "output_type": "execute_result"
    }
   ],
   "source": [
    "a = A()\n",
    "a.incrementa();a.incrementa();a.incrementa()\n",
    "a.cuenta()"
   ]
  },
  {
   "cell_type": "code",
   "execution_count": 51,
   "metadata": {},
   "outputs": [
    {
     "data": {
      "text/plain": [
       "3"
      ]
     },
     "execution_count": 51,
     "metadata": {},
     "output_type": "execute_result"
    }
   ],
   "source": [
    "b = B()\n",
    "b.incrementa();b.incrementa();b.incrementa()\n",
    "b._B__contador\n"
   ]
  },
  {
   "cell_type": "markdown",
   "metadata": {},
   "source": [
    "### Encapsulamiento con decoradores"
   ]
  },
  {
   "cell_type": "code",
   "execution_count": 52,
   "metadata": {},
   "outputs": [
    {
     "name": "stdout",
     "output_type": "stream",
     "text": [
      "Ana\n",
      "30\n",
      "Luis\n",
      "35\n",
      "El nombre debe ser una cadena no vacía\n",
      "La edad debe ser un número entero positivo\n"
     ]
    }
   ],
   "source": [
    "class Persona:\n",
    "    def __init__(self, nombre, edad):\n",
    "        self._nombre = nombre  # Usamos _nombre para indicar que debe accederse mediante el getter/setter\n",
    "        self._edad = edad\n",
    "\n",
    "    # Getter para nombre\n",
    "    @property\n",
    "    def nombre(self):\n",
    "        return self._nombre\n",
    "\n",
    "    # Setter para nombre\n",
    "    @nombre.setter\n",
    "    def nombre(self, valor):\n",
    "        if isinstance(valor, str) and valor:\n",
    "            self._nombre = valor\n",
    "        else:\n",
    "            raise ValueError(\"El nombre debe ser una cadena no vacía\")\n",
    "\n",
    "    # Getter para edad\n",
    "    @property\n",
    "    def edad(self):\n",
    "        return self._edad\n",
    "\n",
    "    # Setter para edad\n",
    "    @edad.setter\n",
    "    def edad(self, valor):\n",
    "        if isinstance(valor, int) and valor > 0:\n",
    "            self._edad = valor\n",
    "        else:\n",
    "            raise ValueError(\"La edad debe ser un número entero positivo\")\n",
    "\n",
    "# Uso de la clase con getters y setters\n",
    "persona = Persona(\"Ana\", 30)\n",
    "print(persona.nombre)  # Ana\n",
    "print(persona.edad)    # 30\n",
    "\n",
    "persona.nombre = \"Luis\"  # Usando el setter\n",
    "persona.edad = 35        # Usando el setter\n",
    "\n",
    "print(persona.nombre)  # Luis\n",
    "print(persona.edad)    # 35\n",
    "\n",
    "# Intentando asignar un valor inválido\n",
    "try:\n",
    "    persona.nombre = \"\"  # Esto generará una excepción\n",
    "except ValueError as e:\n",
    "    print(e)  # El nombre debe ser una cadena no vacía\n",
    "\n",
    "try:\n",
    "    persona.edad = -5  # Esto generará una excepción\n",
    "except ValueError as e:\n",
    "    print(e)  # La edad debe ser un número entero positivo\n"
   ]
  },
  {
   "cell_type": "markdown",
   "metadata": {},
   "source": [
    "### Encapsulamiento sin decoradores"
   ]
  },
  {
   "cell_type": "code",
   "execution_count": 53,
   "metadata": {},
   "outputs": [
    {
     "name": "stdout",
     "output_type": "stream",
     "text": [
      "Ana\n",
      "30\n",
      "Luis\n",
      "35\n",
      "El nombre debe ser una cadena no vacía\n",
      "La edad debe ser un número entero positivo\n"
     ]
    }
   ],
   "source": [
    "class Persona:\n",
    "    def __init__(self, nombre, edad):\n",
    "        self._nombre = nombre  # Atributos con un guion bajo para indicar acceso controlado\n",
    "        self._edad = edad\n",
    "\n",
    "    # Método getter para nombre\n",
    "    def get_nombre(self):\n",
    "        return self._nombre\n",
    "\n",
    "    # Método setter para nombre\n",
    "    def set_nombre(self, valor):\n",
    "        if isinstance(valor, str) and valor:\n",
    "            self._nombre = valor\n",
    "        else:\n",
    "            raise ValueError(\"El nombre debe ser una cadena no vacía\")\n",
    "\n",
    "    # Método getter para edad\n",
    "    def get_edad(self):\n",
    "        return self._edad\n",
    "\n",
    "    # Método setter para edad\n",
    "    def set_edad(self, valor):\n",
    "        if isinstance(valor, int) and valor > 0:\n",
    "            self._edad = valor\n",
    "        else:\n",
    "            raise ValueError(\"La edad debe ser un número entero positivo\")\n",
    "\n",
    "# Uso de la clase con métodos getter y setter\n",
    "persona = Persona(\"Ana\", 30)\n",
    "print(persona.get_nombre())  # Ana\n",
    "print(persona.get_edad())    # 30\n",
    "\n",
    "persona.set_nombre(\"Luis\")   # Usando el setter\n",
    "persona.set_edad(35)         # Usando el setter\n",
    "\n",
    "print(persona.get_nombre())  # Luis\n",
    "print(persona.get_edad())    # 35\n",
    "\n",
    "# Intentando asignar un valor inválido\n",
    "try:\n",
    "    persona.set_nombre(\"\")  # Esto generará una excepción\n",
    "except ValueError as e:\n",
    "    print(e)  # El nombre debe ser una cadena no vacía\n",
    "\n",
    "try:\n",
    "    persona.set_edad(-5)  # Esto generará una excepción\n",
    "except ValueError as e:\n",
    "    print(e)  # La edad debe ser un número entero positivo\n"
   ]
  }
 ],
 "metadata": {
  "kernelspec": {
   "display_name": "base",
   "language": "python",
   "name": "python3"
  },
  "language_info": {
   "codemirror_mode": {
    "name": "ipython",
    "version": 3
   },
   "file_extension": ".py",
   "mimetype": "text/x-python",
   "name": "python",
   "nbconvert_exporter": "python",
   "pygments_lexer": "ipython3",
   "version": "3.11.5"
  }
 },
 "nbformat": 4,
 "nbformat_minor": 2
}
