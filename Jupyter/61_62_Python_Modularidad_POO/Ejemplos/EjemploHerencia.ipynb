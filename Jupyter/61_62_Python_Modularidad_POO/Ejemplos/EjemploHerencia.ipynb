{
 "cells": [
  {
   "cell_type": "code",
   "execution_count": 7,
   "id": "a650068b-6172-46d2-9121-62b7d448a9e5",
   "metadata": {},
   "outputs": [
    {
     "name": "stdout",
     "output_type": "stream",
     "text": [
      "100\n"
     ]
    },
    {
     "data": {
      "text/plain": [
       "0.1"
      ]
     },
     "execution_count": 7,
     "metadata": {},
     "output_type": "execute_result"
    }
   ],
   "source": [
    "class Targeta():\n",
    "    def __init__(self, id, saldo):\n",
    "        self.id = id\n",
    "        self.saldo = saldo\n",
    "\n",
    "    def id(self):\n",
    "        return self.id\n",
    "    def saldo(self):\n",
    "        return self.saldo\n",
    "\n",
    "class TargetaDescuento(Targeta):\n",
    "    def __init__(self, id, saldo, descuento):\n",
    "        super().__init__(id, saldo)\n",
    "        self.descuento = descuento\n",
    "        return\n",
    "    def descuento(self):\n",
    "        return self.descuento\n",
    "\n",
    "t = TargetaDescuento(1,100,0.1)\n",
    "print(t.saldo)\n",
    "t.descuento"
   ]
  },
  {
   "cell_type": "code",
   "execution_count": null,
   "id": "328415c7-6017-4ef2-ae9f-518888c41749",
   "metadata": {},
   "outputs": [],
   "source": []
  }
 ],
 "metadata": {
  "kernelspec": {
   "display_name": "Python [conda env:base] *",
   "language": "python",
   "name": "conda-base-py"
  },
  "language_info": {
   "codemirror_mode": {
    "name": "ipython",
    "version": 3
   },
   "file_extension": ".py",
   "mimetype": "text/x-python",
   "name": "python",
   "nbconvert_exporter": "python",
   "pygments_lexer": "ipython3",
   "version": "3.12.7"
  }
 },
 "nbformat": 4,
 "nbformat_minor": 5
}
