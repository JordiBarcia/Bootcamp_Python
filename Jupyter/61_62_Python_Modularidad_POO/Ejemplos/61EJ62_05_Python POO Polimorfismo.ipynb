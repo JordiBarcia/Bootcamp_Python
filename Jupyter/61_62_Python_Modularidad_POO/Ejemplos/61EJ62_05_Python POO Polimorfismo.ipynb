{
 "cells": [
  {
   "cell_type": "markdown",
   "metadata": {},
   "source": [
    "El polimorfismo es un principio fundamental de la Programación Orientada a Objetos (POO) que permite que objetos de diferentes clases puedan ser tratados como objetos de una clase común. Esto se logra mediante la definición de una interfaz o método común que puede ser implementado de diferentes maneras por distintas clases. El polimorfismo permite escribir código más flexible y reutilizable, ya que puedes usar la misma interfaz para interactuar con diferentes tipos de objetos."
   ]
  },
  {
   "cell_type": "markdown",
   "metadata": {},
   "source": [
    "### Ejemplo 1: Polimorfismo con Herencia\n",
    "Imaginemos que tenemos una clase base Animal y dos clases derivadas, Perro y Gato, cada una con su propia implementación del método sonido()."
   ]
  },
  {
   "cell_type": "code",
   "execution_count": null,
   "metadata": {},
   "outputs": [],
   "source": [
    "class Animal:\n",
    "    def sonido(self):\n",
    "        pass\n",
    "\n",
    "class Perro(Animal):\n",
    "    def sonido(self):\n",
    "        return \"Guau\"\n",
    "\n",
    "class Gato(Animal):\n",
    "    def sonido(self):\n",
    "        return \"Miau\"\n",
    "\n",
    "# Función que toma un objeto de tipo Animal y llama a su método sonido\n",
    "def hacer_sonido(animal):\n",
    "    print(animal.sonido())\n",
    "\n",
    "# Crear instancias de Perro y Gato\n",
    "mi_perro = Perro()\n",
    "mi_gato = Gato()\n",
    "\n",
    "# Uso de la función polimórfica\n",
    "hacer_sonido(mi_perro)  # Salida: Guau\n",
    "hacer_sonido(mi_gato)   # Salida: Miau\n"
   ]
  },
  {
   "cell_type": "markdown",
   "metadata": {},
   "source": [
    "En este ejemplo, hacer_sonido() puede tomar un objeto de cualquier clase que derive de Animal y llamar a su método sonido(). La misma función se comporta de manera diferente dependiendo del tipo de objeto que se le pase.\n",
    "\n"
   ]
  },
  {
   "cell_type": "markdown",
   "metadata": {},
   "source": [
    "### Ejemplo 2: Polimorfismo con Métodos en Diferentes Clases\n",
    "El polimorfismo no requiere necesariamente que las clases estén relacionadas por herencia directa. Solo se necesita que tengan un método con el mismo nombre."
   ]
  },
  {
   "cell_type": "code",
   "execution_count": 1,
   "metadata": {},
   "outputs": [
    {
     "name": "stdout",
     "output_type": "stream",
     "text": [
      "El coche avanza.\n",
      "La bicicleta avanza.\n"
     ]
    }
   ],
   "source": [
    "class Coche:\n",
    "    def avanzar(self):\n",
    "        print(\"El coche avanza.\")\n",
    "\n",
    "class Bicicleta:\n",
    "    def avanzar(self):\n",
    "        print(\"La bicicleta avanza.\")\n",
    "\n",
    "# Función que toma un objeto con un método avanzar\n",
    "def mover_vehiculo(vehiculo):\n",
    "    vehiculo.avanzar()\n",
    "\n",
    "# Crear instancias\n",
    "mi_coche = Coche()\n",
    "mi_bicicleta = Bicicleta()\n",
    "\n",
    "# Uso de la función polimórfica\n",
    "mover_vehiculo(mi_coche)       # Salida: El coche avanza.\n",
    "mover_vehiculo(mi_bicicleta)   # Salida: La bicicleta avanza.\n"
   ]
  },
  {
   "cell_type": "markdown",
   "metadata": {},
   "source": [
    "En este caso, mover_vehiculo() acepta cualquier objeto que tenga un método avanzar, aunque Coche y Bicicleta no compartan una clase base común. Ambos objetos pueden ser utilizados de manera polimórfica porque implementan un método con el mismo nombre.\n",
    "\n"
   ]
  },
  {
   "cell_type": "markdown",
   "metadata": {},
   "source": [
    "### Ejemplo 3: Polimorfismo y Abstracción\n",
    "Para un enfoque más formal, puedes usar clases abstractas para definir un comportamiento común."
   ]
  },
  {
   "cell_type": "code",
   "execution_count": 2,
   "metadata": {},
   "outputs": [
    {
     "name": "stdout",
     "output_type": "stream",
     "text": [
      "78.53999999999999\n",
      "24\n"
     ]
    }
   ],
   "source": [
    "from abc import ABC, abstractmethod\n",
    "\n",
    "class Figura(ABC):\n",
    "    @abstractmethod\n",
    "    def area(self):\n",
    "        pass\n",
    "\n",
    "class Circulo(Figura):\n",
    "    def __init__(self, radio):\n",
    "        self.radio = radio\n",
    "\n",
    "    def area(self):\n",
    "        return 3.1416 * self.radio ** 2\n",
    "\n",
    "class Rectangulo(Figura):\n",
    "    def __init__(self, ancho, alto):\n",
    "        self.ancho = ancho\n",
    "        self.alto = alto\n",
    "\n",
    "    def area(self):\n",
    "        return self.ancho * self.alto\n",
    "\n",
    "# Lista de figuras\n",
    "figuras = [Circulo(5), Rectangulo(4, 6)]\n",
    "\n",
    "# Calcular el área de todas las figuras\n",
    "for figura in figuras:\n",
    "    print(figura.area())\n"
   ]
  },
  {
   "cell_type": "markdown",
   "metadata": {},
   "source": [
    "En este ejemplo, Figura es una clase abstracta con un método abstracto area(). Tanto Circulo como Rectangulo implementan este método. Cuando iteramos sobre la lista de figuras, Python llama al método area() correspondiente al tipo de objeto, mostrando el uso del polimorfismo.\n",
    "\n"
   ]
  },
  {
   "cell_type": "markdown",
   "metadata": {},
   "source": [
    "### Ejemplo 4: Polimorfismo con Sobrecarga de Operadores\n",
    "Python también permite polimorfismo mediante la sobrecarga de operadores. Por ejemplo, puedes definir cómo debe comportarse la suma (+) para objetos de una clase personalizada."
   ]
  },
  {
   "cell_type": "code",
   "execution_count": 3,
   "metadata": {},
   "outputs": [
    {
     "name": "stdout",
     "output_type": "stream",
     "text": [
      "(7, 10)\n"
     ]
    }
   ],
   "source": [
    "class Vector:\n",
    "    def __init__(self, x, y):\n",
    "        self.x = x\n",
    "        self.y = y\n",
    "\n",
    "    def __add__(self, otro):\n",
    "        return Vector(self.x + otro.x, self.y + otro.y)\n",
    "\n",
    "    def __str__(self):\n",
    "        return f\"({self.x}, {self.y})\"\n",
    "\n",
    "# Crear instancias de Vector\n",
    "v1 = Vector(2, 3)\n",
    "v2 = Vector(5, 7)\n",
    "\n",
    "# Usar el operador + de manera polimórfica\n",
    "v3 = v1 + v2\n",
    "print(v3)  # Salida: (7, 10)\n"
   ]
  },
  {
   "cell_type": "markdown",
   "metadata": {},
   "source": [
    "Aquí, hemos definido cómo se comporta el operador + para objetos de la clase Vector mediante el método especial __add__. Esto permite que los objetos de Vector se sumen de forma natural utilizando el operador +.\n",
    "\n"
   ]
  },
  {
   "cell_type": "markdown",
   "metadata": {},
   "source": [
    "### Resumen\n",
    "El polimorfismo te permite:\n",
    "\n",
    "Tratar objetos de diferentes clases de manera uniforme.\n",
    "Escribir funciones más genéricas y reutilizables.\n",
    "Implementar diferentes comportamientos para un mismo método en distintas clases."
   ]
  }
 ],
 "metadata": {
  "kernelspec": {
   "display_name": "Python [conda env:base] *",
   "language": "python",
   "name": "conda-base-py"
  },
  "language_info": {
   "codemirror_mode": {
    "name": "ipython",
    "version": 3
   },
   "file_extension": ".py",
   "mimetype": "text/x-python",
   "name": "python",
   "nbconvert_exporter": "python",
   "pygments_lexer": "ipython3",
   "version": "3.12.7"
  }
 },
 "nbformat": 4,
 "nbformat_minor": 4
}
