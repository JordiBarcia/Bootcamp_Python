{
 "cells": [
  {
   "cell_type": "markdown",
   "metadata": {},
   "source": [
    "La abstracción es un concepto fundamental en la Programación Orientada a Objetos (POO) que se centra en ocultar los detalles internos y mostrar solo las funcionalidades esenciales de un objeto. El objetivo de la abstracción es simplificar la complejidad del sistema, permitiendo que los usuarios interactúen con el objeto a través de una interfaz simple sin preocuparse por los detalles de implementación.\n",
    "\n"
   ]
  },
  {
   "cell_type": "markdown",
   "metadata": {},
   "source": [
    "### Conceptos Clave de la Abstracción\n",
    "- Ocultación de la Complejidad: La abstracción se usa para ocultar los detalles complejos del sistema y exponer solo las funcionalidades necesarias.\n",
    "- Interfaces y Métodos Abstractos: En Python, la abstracción se logra principalmente a través de clases e interfaces abstractas que definen métodos abstractos (métodos sin implementación).\n",
    "- Enfoque en lo Esencial: Al centrarse solo en las propiedades y comportamientos esenciales, la abstracción ayuda a reducir la complejidad y mejorar la manejabilidad del código."
   ]
  },
  {
   "cell_type": "markdown",
   "metadata": {},
   "source": [
    "### Ejemplo 1: Abstracción con Clases Abstractas\n",
    "En Python, las clases abstractas se crean utilizando el módulo abc (Abstract Base Classes). Puedes definir métodos abstractos que deben ser implementados por cualquier clase derivada."
   ]
  },
  {
   "cell_type": "code",
   "execution_count": null,
   "metadata": {},
   "outputs": [],
   "source": [
    "from abc import ABC, abstractmethod\n",
    "\n",
    "class Figura(ABC):\n",
    "    @abstractmethod\n",
    "    def area(self):\n",
    "        pass\n",
    "\n",
    "    @abstractmethod\n",
    "    def perimetro(self):\n",
    "        pass\n",
    "\n",
    "class Circulo(Figura):\n",
    "    def __init__(self, radio):\n",
    "        self.radio = radio\n",
    "\n",
    "    def area(self):\n",
    "        return 3.1416 * self.radio ** 2\n",
    "\n",
    "    def perimetro(self):\n",
    "        return 2 * 3.1416 * self.radio\n",
    "\n",
    "class Rectangulo(Figura):\n",
    "    def __init__(self, ancho, alto):\n",
    "        self.ancho = ancho\n",
    "        self.alto = alto\n",
    "\n",
    "    def area(self):\n",
    "        return self.ancho * self.alto\n",
    "\n",
    "    def perimetro(self):\n",
    "        return 2 * (self.ancho + self.alto)\n",
    "\n",
    "# Uso de las clases\n",
    "mi_circulo = Circulo(5)\n",
    "mi_rectangulo = Rectangulo(4, 6)\n",
    "\n",
    "print(mi_circulo.area())         # Salida: 78.54\n",
    "print(mi_rectangulo.perimetro()) # Salida: 20\n"
   ]
  },
  {
   "cell_type": "markdown",
   "metadata": {},
   "source": [
    "En este ejemplo:\n",
    "\n",
    "- Figura es una clase abstracta que define los métodos area() y perimetro().\n",
    "- Las clases Circulo y Rectangulo heredan de Figura y proporcionan implementaciones para estos métodos.\n",
    "- La abstracción nos permite trabajar con figuras de manera genérica, sin preocuparnos por los detalles específicos de cada tipo de figura."
   ]
  },
  {
   "cell_type": "markdown",
   "metadata": {},
   "source": [
    "### Ejemplo 2: Abstracción con Métodos Públicos y Privados\n",
    "Otra forma de lograr la abstracción es mediante el uso de métodos públicos y privados para controlar el acceso a los detalles de implementación."
   ]
  },
  {
   "cell_type": "code",
   "execution_count": 1,
   "metadata": {},
   "outputs": [
    {
     "name": "stdout",
     "output_type": "stream",
     "text": [
      "1300\n"
     ]
    }
   ],
   "source": [
    "class CuentaBancaria:\n",
    "    def __init__(self, titular, saldo):\n",
    "        self.titular = titular\n",
    "        self.__saldo = saldo  # Atributo privado\n",
    "\n",
    "    def depositar(self, cantidad):\n",
    "        if cantidad > 0:\n",
    "            self.__saldo += cantidad\n",
    "\n",
    "    def retirar(self, cantidad):\n",
    "        if 0 < cantidad <= self.__saldo:\n",
    "            self.__saldo -= cantidad\n",
    "\n",
    "    def obtener_saldo(self):\n",
    "        return self.__saldo\n",
    "\n",
    "# Uso de la clase\n",
    "mi_cuenta = CuentaBancaria(\"Juan\", 1000)\n",
    "mi_cuenta.depositar(500)\n",
    "mi_cuenta.retirar(200)\n",
    "print(mi_cuenta.obtener_saldo())  # Salida: 1300\n"
   ]
  },
  {
   "cell_type": "markdown",
   "metadata": {},
   "source": [
    "En este ejemplo:\n",
    "\n",
    "- La variable __saldo es un atributo privado que no puede ser accedido directamente desde fuera de la clase.\n",
    "- Se proporcionan métodos públicos (depositar, retirar, obtener_saldo) que permiten interactuar con la cuenta bancaria de una manera controlada.\n",
    "- El usuario de la clase no necesita saber cómo se gestionan los detalles del saldo, solo cómo usar los métodos proporcionados."
   ]
  },
  {
   "cell_type": "markdown",
   "metadata": {},
   "source": [
    "### Beneficios de la Abstracción\n",
    "- Simplificación del Código: La abstracción permite reducir la complejidad al ocultar los detalles internos, haciendo que el código sea más fácil de entender y mantener.\n",
    "- Facilidad de Uso: Los usuarios pueden interactuar con objetos a través de una interfaz simple, sin necesidad de conocer los detalles internos.\n",
    "- Seguridad: Ocultar los detalles internos evita el acceso directo a los datos sensibles y proporciona un nivel de seguridad.\n",
    "Reutilización de Código: Puedes definir una interfaz común para diferentes clases, lo que facilita la reutilización del código."
   ]
  },
  {
   "cell_type": "markdown",
   "metadata": {},
   "source": [
    "### Resumen\n",
    "La abstracción es una técnica que ayuda a ocultar los detalles de implementación y a exponer solo la funcionalidad esencial. En Python, se logra mediante:\n",
    "\n",
    "- Clases y métodos abstractos que definen una interfaz.\n",
    "- Uso de métodos públicos y privados para controlar el acceso a los atributos y métodos.\n",
    "Al centrarse solo en lo esencial y ocultar los detalles complejos, la abstracción permite escribir un código más limpio, mantenible y seguro."
   ]
  },
  {
   "cell_type": "markdown",
   "metadata": {},
   "source": []
  }
 ],
 "metadata": {
  "kernelspec": {
   "display_name": "base",
   "language": "python",
   "name": "python3"
  },
  "language_info": {
   "codemirror_mode": {
    "name": "ipython",
    "version": 3
   },
   "file_extension": ".py",
   "mimetype": "text/x-python",
   "name": "python",
   "nbconvert_exporter": "python",
   "pygments_lexer": "ipython3",
   "version": "3.11.5"
  }
 },
 "nbformat": 4,
 "nbformat_minor": 2
}
