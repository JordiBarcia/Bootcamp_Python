{
 "cells": [
  {
   "cell_type": "code",
   "execution_count": 1,
   "id": "2a02d63f",
   "metadata": {},
   "outputs": [
    {
     "data": {
      "text/plain": [
       "tuple"
      ]
     },
     "execution_count": 1,
     "metadata": {},
     "output_type": "execute_result"
    }
   ],
   "source": [
    "arr = (678,34,56,7)\n",
    "type (arr)"
   ]
  },
  {
   "cell_type": "markdown",
   "id": "8ac00879",
   "metadata": {},
   "source": [
    "Acceso a los atributos y métodos de un objeto \n"
   ]
  },
  {
   "cell_type": "code",
   "execution_count": 2,
   "id": "cbed4bd0",
   "metadata": {},
   "outputs": [
    {
     "data": {
      "text/plain": [
       "['__add__',\n",
       " '__class__',\n",
       " '__class_getitem__',\n",
       " '__contains__',\n",
       " '__delattr__',\n",
       " '__dir__',\n",
       " '__doc__',\n",
       " '__eq__',\n",
       " '__format__',\n",
       " '__ge__',\n",
       " '__getattribute__',\n",
       " '__getitem__',\n",
       " '__getnewargs__',\n",
       " '__gt__',\n",
       " '__hash__',\n",
       " '__init__',\n",
       " '__init_subclass__',\n",
       " '__iter__',\n",
       " '__le__',\n",
       " '__len__',\n",
       " '__lt__',\n",
       " '__mul__',\n",
       " '__ne__',\n",
       " '__new__',\n",
       " '__reduce__',\n",
       " '__reduce_ex__',\n",
       " '__repr__',\n",
       " '__rmul__',\n",
       " '__setattr__',\n",
       " '__sizeof__',\n",
       " '__str__',\n",
       " '__subclasshook__',\n",
       " 'count',\n",
       " 'index']"
      ]
     },
     "execution_count": 2,
     "metadata": {},
     "output_type": "execute_result"
    }
   ],
   "source": [
    "dir(arr)"
   ]
  },
  {
   "cell_type": "code",
   "execution_count": null,
   "id": "964815e5",
   "metadata": {},
   "outputs": [],
   "source": [
    "len(arr)"
   ]
  },
  {
   "cell_type": "code",
   "execution_count": null,
   "id": "c4c47891",
   "metadata": {},
   "outputs": [],
   "source": [
    "nombre = \"Oscar\"\n",
    "len(nombre)"
   ]
  },
  {
   "cell_type": "markdown",
   "id": "d72168c9",
   "metadata": {},
   "source": [
    "hasattr(objeto, elemento): Devuelve True si elemento es un atributo o un método del \n",
    "objeto objeto y False en caso contrario. "
   ]
  },
  {
   "cell_type": "code",
   "execution_count": 5,
   "id": "2e34fbbb",
   "metadata": {},
   "outputs": [
    {
     "name": "stdout",
     "output_type": "stream",
     "text": [
      "True\n",
      "False\n"
     ]
    }
   ],
   "source": [
    "frutas =[]\n",
    "print(hasattr(frutas, 'append'))\n",
    "print(hasattr(frutas, 'abs'))"
   ]
  },
  {
   "cell_type": "markdown",
   "id": "f47727ed",
   "metadata": {},
   "source": [
    "- objeto.atributo: Accede al atributo atributo del objeto objeto. \n",
    "- objeto.método(parámetros): Ejecuta el método método del objeto objeto con los parámetros \n",
    "que se le pasen. "
   ]
  },
  {
   "cell_type": "code",
   "execution_count": 6,
   "id": "3190b4c6",
   "metadata": {},
   "outputs": [
    {
     "name": "stdout",
     "output_type": "stream",
     "text": [
      "OSCAR\n",
      "[1, 2, 3, 4]\n"
     ]
    }
   ],
   "source": [
    "nombre =\"oscar\"\n",
    "print(nombre.upper())\n",
    "\n",
    "lista = [1,2,3]\n",
    "lista.append(4)\n",
    "print(lista)"
   ]
  },
  {
   "cell_type": "markdown",
   "id": "0c3337bc",
   "metadata": {},
   "source": [
    "### Clases primitivas \n",
    "En Python existen clases predefinidas para los tipos de datos primitivos: \n",
    "- int: Clase de los números enteros. \n",
    "- float: Clase de los números reales. \n",
    "- str: Clase de las cadenas de caracteres. \n",
    "- list: Clase de las listas. \n",
    "- tuple: Clase de las tuplas. \n",
    "- dict: Clase de los diccionarios. "
   ]
  },
  {
   "cell_type": "markdown",
   "id": "aa580eeb",
   "metadata": {},
   "source": [
    "### Clases (class) "
   ]
  },
  {
   "cell_type": "markdown",
   "id": "9874bd7c",
   "metadata": {},
   "source": [
    "Ejemplo El siguiente código define la clase Saludo sin atributos ni métodos. La palabra \n",
    "reservada pass indica que la clase está vacía."
   ]
  },
  {
   "cell_type": "code",
   "execution_count": 7,
   "id": "e667fa41",
   "metadata": {},
   "outputs": [
    {
     "data": {
      "text/plain": [
       "__main__.Saludo"
      ]
     },
     "execution_count": 7,
     "metadata": {},
     "output_type": "execute_result"
    }
   ],
   "source": [
    "class Saludo:\n",
    "    pass\n",
    "\n",
    "s = Saludo()\n",
    "\n",
    "type (s)"
   ]
  },
  {
   "cell_type": "markdown",
   "id": "770b61c1",
   "metadata": {},
   "source": [
    "### Definición de métodos \n",
    "Los métodos de una clase son las funciones que definen el comportamiento de los objetos de esa clase."
   ]
  },
  {
   "cell_type": "code",
   "execution_count": 8,
   "id": "5fcc5536",
   "metadata": {},
   "outputs": [
    {
     "name": "stdout",
     "output_type": "stream",
     "text": [
      "Bienvenido Oscar\n"
     ]
    }
   ],
   "source": [
    "class Saludo:\n",
    "    mensaje = \"Bienvenido \" # Definición de un atributo\n",
    "    def saludar(self, nombre): # Definición de un método\n",
    "        print(self.mensaje + nombre)\n",
    "        return\n",
    "    \n",
    "s = Saludo()\n",
    "s.saludar('Oscar')"
   ]
  },
  {
   "cell_type": "markdown",
   "id": "161f60ba",
   "metadata": {},
   "source": [
    "### El método __init__ \n",
    "En la definición de una clase suele haber un método llamado __init__ que se conoce \n",
    "como inicializador. "
   ]
  },
  {
   "cell_type": "markdown",
   "id": "38169ff7",
   "metadata": {},
   "source": [
    "El método __init__ en Python es el constructor de una clase, y se utiliza para inicializar los atributos del objeto cuando este es creado. Es lo que permite configurar automáticamente las propiedades iniciales de un objeto sin necesidad de escribir más código después de crearlo.\n",
    "\n",
    "- ¿Qué hace exactamente __init__?\n",
    "Inicializa el objeto: Se ejecuta inmediatamente después de que se crea una instancia de la clase.\n",
    "Define los valores iniciales de los atributos: Por ejemplo, en tu clase Tarjeta, inicializas id y saldo.\n",
    "No devuelve nada: El constructor nunca debe retornar valores (por eso no usamos return al final, aunque escribirlo sin valor no genera error).\n",
    "- ¿Por qué no otro nombre?\n",
    "El nombre __init__ es especial en Python porque es una convención definida por el lenguaje. Cuando escribes tarjeta = Tarjeta(1, 100), Python automáticamente busca y ejecuta el método __init__ para configurar la instancia."
   ]
  },
  {
   "cell_type": "markdown",
   "id": "b4493346",
   "metadata": {},
   "source": [
    "- ¿Qué es self?\n",
    "self es una convención en Python (no una palabra reservada) que representa la instancia actual de la clase. Es decir, es una referencia al objeto específico que se está creando o utilizando en ese momento.\n",
    "\n",
    "Cuando defines un método en una clase, Python automáticamente pasa el objeto actual (la instancia) como el primer argumento al método. Por convención, se nombra este argumento como self.\n",
    "\n",
    "- ¿Por qué es necesario?\n",
    "Para acceder a los atributos y métodos del objeto: Si quieres que un método pueda acceder o modificar los atributos del objeto, necesitas una referencia a ese objeto, y self cumple esta función.\n",
    "\n",
    "Diferenciar entre variables locales y atributos del objeto: En tu clase Tarjeta, si no usáramos self para self.id y self.saldo, Python no sabría que estás hablando de los atributos del objeto y pensaría que son variables locales del método."
   ]
  },
  {
   "cell_type": "code",
   "execution_count": 9,
   "id": "d45c2819",
   "metadata": {},
   "outputs": [
    {
     "name": "stdout",
     "output_type": "stream",
     "text": [
      "El saldo es 1000 €\n",
      "El saldo es 51 €\n"
     ]
    }
   ],
   "source": [
    "class Tarjeta:\n",
    "    def __init__(self, id, cantidad = 0): # Inicializador\n",
    "        self.id = id # Creación del atributo id\n",
    "        self.saldo = cantidad # Creación del atributo saldo\n",
    "        return\n",
    "    def mostrar_saldo(self):\n",
    "        print('El saldo es', self.saldo, '€')\n",
    "        return\n",
    "    \n",
    "t = Tarjeta('1111111111', 1000) # Creación de un objeto con argumentos \n",
    "t.mostrar_saldo()\n",
    "t2 = Tarjeta('22222222',51)\n",
    "t2.mostrar_saldo()"
   ]
  },
  {
   "cell_type": "code",
   "execution_count": 51,
   "id": "d843225f",
   "metadata": {},
   "outputs": [
    {
     "name": "stdout",
     "output_type": "stream",
     "text": [
      "El saldo es 100 €\n"
     ]
    }
   ],
   "source": [
    "class Tarjeta:\n",
    "    def __init__(self, id, cantidad=0):\n",
    "        self.id = id  # Aquí \"self.id\" es un atributo del objeto\n",
    "        self.saldo = cantidad  # \"self.saldo\" es otro atributo del objeto\n",
    "\n",
    "    def mostrar_saldo(self):\n",
    "        print('El saldo es', self.saldo, '€')  # Aquí accedes al atributo \"saldo\" del objeto\n",
    "\n",
    "# Crear una instancia de la clase\n",
    "mi_tarjeta = Tarjeta(1, 100)\n",
    "\n",
    "# Aquí, \"self\" en los métodos hace referencia a \"mi_tarjeta\"\n",
    "mi_tarjeta.mostrar_saldo()  # Salida: El saldo es 100 €\n"
   ]
  },
  {
   "cell_type": "code",
   "execution_count": 52,
   "id": "0c8d3840",
   "metadata": {},
   "outputs": [
    {
     "name": "stdout",
     "output_type": "stream",
     "text": [
      "El saldo es 100 €\n"
     ]
    }
   ],
   "source": [
    "# En este caso, cuando llamas a mi_tarjeta.mostrar_saldo(), Python internamente lo traduce a:\n",
    "Tarjeta.mostrar_saldo(mi_tarjeta)\n",
    "# Por eso, el método mostrar_saldo() recibe un argumento \"self\" que es la instancia de la clase que lo llama.\n"
   ]
  },
  {
   "cell_type": "markdown",
   "id": "dba9415c",
   "metadata": {},
   "source": [
    "### Atributos de instancia vs atributos de clase \n",
    "Los atributos que se crean dentro del método __init__ se conocen como atributos del objeto, mientras \n",
    "que los que se crean fuera de él se conocen como atributos de la clase."
   ]
  },
  {
   "cell_type": "code",
   "execution_count": 50,
   "id": "caeea889",
   "metadata": {},
   "outputs": [
    {
     "name": "stdout",
     "output_type": "stream",
     "text": [
      "12.56636\n",
      "28.27431\n",
      "3.14159\n",
      "3.14159\n"
     ]
    }
   ],
   "source": [
    "class Circulo: \n",
    "    pi = 3.14159                     # Atributo de clase \n",
    "    def __init__(self, radio): \n",
    "        self.radio = radio           # Atributo de instancia \n",
    "    def area(self):\n",
    "        return Circulo.pi * self.radio ** 2 \n",
    "c1 = Circulo(2) \n",
    "c2 = Circulo(3) \n",
    "print(c1.area()) \n",
    " \n",
    "print(c2.area()) \n",
    " \n",
    "print(c1.pi) \n",
    "print(c2.pi) \n",
    " "
   ]
  },
  {
   "cell_type": "markdown",
   "id": "a120565a",
   "metadata": {},
   "source": [
    "### El método __str__ \n",
    "Otro método especial es el método llamado __str__ que se invoca cada vez que se llama a las \n",
    "funciones print o str."
   ]
  },
  {
   "cell_type": "code",
   "execution_count": 49,
   "id": "90893ab8",
   "metadata": {},
   "outputs": [
    {
     "name": "stdout",
     "output_type": "stream",
     "text": [
      "Tarjeta número 0123456789 con saldo 1000.00€\n",
      "Tarjeta número 0123456789 con saldo 1000.00€\n"
     ]
    }
   ],
   "source": [
    "class Tarjeta:\n",
    "    def __init__(self, numero, cantidad = 0):\n",
    "        self.numero = numero\n",
    "        self.saldo = cantidad\n",
    "        return\n",
    "    \n",
    "    def __str__(self):\n",
    "        return 'Tarjeta número {} con saldo {:.2f}€'.format(self.numero, self.saldo)\n",
    "t = Tarjeta('0123456789', 1000)\n",
    "print(t)\n",
    "print (t)"
   ]
  },
  {
   "cell_type": "code",
   "execution_count": 12,
   "id": "053c737d",
   "metadata": {},
   "outputs": [],
   "source": [
    "class Coche:\n",
    "    ruedas = 4\n",
    "    def __init__(self,color,aceleracion):\n",
    "        self.color = color\n",
    "        self.aceleracion = aceleracion\n",
    "        self.velocidad = 0\n",
    "        \n",
    "    def acelerar(self):\n",
    "        self.velocidad = self.velocidad + self.aceleracion\n",
    "        \n",
    "    def frenar(self):\n",
    "        v = self.velocidad - self.aceleracion\n",
    "        if v < 0:\n",
    "            v = 0\n",
    "        self.velocidad = v\n",
    "        "
   ]
  },
  {
   "cell_type": "code",
   "execution_count": 13,
   "id": "74295179",
   "metadata": {},
   "outputs": [],
   "source": [
    "c1 = Coche('rojo',10)"
   ]
  },
  {
   "cell_type": "code",
   "execution_count": 14,
   "id": "e5cf1b40",
   "metadata": {},
   "outputs": [],
   "source": [
    "c4 = Coche('azul',50)"
   ]
  },
  {
   "cell_type": "code",
   "execution_count": 15,
   "id": "e3fd9052",
   "metadata": {},
   "outputs": [
    {
     "data": {
      "text/plain": [
       "4"
      ]
     },
     "execution_count": 15,
     "metadata": {},
     "output_type": "execute_result"
    }
   ],
   "source": [
    "c1.ruedas"
   ]
  },
  {
   "cell_type": "code",
   "execution_count": 16,
   "id": "22ef10a4",
   "metadata": {},
   "outputs": [
    {
     "data": {
      "text/plain": [
       "4"
      ]
     },
     "execution_count": 16,
     "metadata": {},
     "output_type": "execute_result"
    }
   ],
   "source": [
    "c4.ruedas\n"
   ]
  },
  {
   "cell_type": "code",
   "execution_count": 17,
   "id": "2c9d37d7",
   "metadata": {},
   "outputs": [
    {
     "data": {
      "text/plain": [
       "0"
      ]
     },
     "execution_count": 17,
     "metadata": {},
     "output_type": "execute_result"
    }
   ],
   "source": [
    "c1.velocidad"
   ]
  },
  {
   "cell_type": "code",
   "execution_count": 18,
   "id": "1ee9713a",
   "metadata": {},
   "outputs": [],
   "source": [
    "c1.acelerar()\n",
    "c4.acelerar()"
   ]
  },
  {
   "cell_type": "code",
   "execution_count": 19,
   "id": "8382c7e9",
   "metadata": {},
   "outputs": [
    {
     "data": {
      "text/plain": [
       "10"
      ]
     },
     "execution_count": 19,
     "metadata": {},
     "output_type": "execute_result"
    }
   ],
   "source": [
    "c1.velocidad"
   ]
  },
  {
   "cell_type": "code",
   "execution_count": 20,
   "id": "fa70b2f2",
   "metadata": {},
   "outputs": [
    {
     "data": {
      "text/plain": [
       "50"
      ]
     },
     "execution_count": 20,
     "metadata": {},
     "output_type": "execute_result"
    }
   ],
   "source": [
    "c4.velocidad"
   ]
  },
  {
   "cell_type": "code",
   "execution_count": 21,
   "id": "de7426f9",
   "metadata": {},
   "outputs": [],
   "source": [
    "c4.frenar()"
   ]
  },
  {
   "cell_type": "code",
   "execution_count": 22,
   "id": "a51d0a9b",
   "metadata": {},
   "outputs": [],
   "source": [
    "c1.marchas = 4"
   ]
  },
  {
   "cell_type": "code",
   "execution_count": 23,
   "id": "7a269f6b",
   "metadata": {},
   "outputs": [],
   "source": [
    "c4.marchas = 6"
   ]
  },
  {
   "cell_type": "code",
   "execution_count": 24,
   "id": "d47f382a",
   "metadata": {},
   "outputs": [
    {
     "data": {
      "text/plain": [
       "4"
      ]
     },
     "execution_count": 24,
     "metadata": {},
     "output_type": "execute_result"
    }
   ],
   "source": [
    "c4.ruedas\n"
   ]
  },
  {
   "cell_type": "code",
   "execution_count": 25,
   "id": "def9134e",
   "metadata": {},
   "outputs": [
    {
     "data": {
      "text/plain": [
       "6"
      ]
     },
     "execution_count": 25,
     "metadata": {},
     "output_type": "execute_result"
    }
   ],
   "source": [
    "c4.marchas"
   ]
  },
  {
   "cell_type": "code",
   "execution_count": 26,
   "id": "73d25eed",
   "metadata": {},
   "outputs": [],
   "source": [
    "c5 = Coche('negro',80)"
   ]
  },
  {
   "cell_type": "code",
   "execution_count": 27,
   "id": "afce37b1",
   "metadata": {},
   "outputs": [
    {
     "data": {
      "text/plain": [
       "4"
      ]
     },
     "execution_count": 27,
     "metadata": {},
     "output_type": "execute_result"
    }
   ],
   "source": [
    "c5.ruedas"
   ]
  },
  {
   "cell_type": "code",
   "execution_count": 28,
   "id": "485253c0",
   "metadata": {},
   "outputs": [],
   "source": [
    "c5.marchas = 12"
   ]
  },
  {
   "cell_type": "code",
   "execution_count": 29,
   "id": "754a74f0",
   "metadata": {},
   "outputs": [],
   "source": [
    "# inicializamos la clase\n",
    "class Alumno:\n",
    "# inicializamos los atributos\n",
    "    def __init__(self,nombre=\"alumno\",nota=9):\n",
    "        self.nombre=nombre\n",
    "        self.nota=nota\n",
    "# función para imprimir los datos\n",
    "    def __str__(self):\n",
    "        return 'Nombre {} Nota {}'.format(self.nombre, self.nota)\n",
    "\n",
    " # función para obtener el resultado\n",
    "    def resultado(self):\n",
    "        if self.nota < 5:\n",
    "            print(\"El alumno ha suspendido\")\n",
    "        else:\n",
    "            print(\"El alumno ha aprobado\")\n",
    "# bloque principal\n",
    "# creamos los nuevos objetos\n",
    "alumno1=Alumno(\"ivan\",8)\n",
    "\n"
   ]
  },
  {
   "cell_type": "code",
   "execution_count": 30,
   "id": "509cfd0c",
   "metadata": {},
   "outputs": [],
   "source": [
    "alumno2=Alumno(\"juan\",4)\n"
   ]
  },
  {
   "cell_type": "code",
   "execution_count": 31,
   "id": "05e9eea0",
   "metadata": {},
   "outputs": [],
   "source": [
    "alumno3 = Alumno()"
   ]
  },
  {
   "cell_type": "code",
   "execution_count": 32,
   "id": "6a04ea06",
   "metadata": {},
   "outputs": [
    {
     "data": {
      "text/plain": [
       "'alumno'"
      ]
     },
     "execution_count": 32,
     "metadata": {},
     "output_type": "execute_result"
    }
   ],
   "source": [
    "alumno3.nombre"
   ]
  },
  {
   "cell_type": "code",
   "execution_count": 33,
   "id": "13c183b9",
   "metadata": {},
   "outputs": [
    {
     "data": {
      "text/plain": [
       "9"
      ]
     },
     "execution_count": 33,
     "metadata": {},
     "output_type": "execute_result"
    }
   ],
   "source": [
    "alumno3.nota"
   ]
  },
  {
   "cell_type": "code",
   "execution_count": 34,
   "id": "58497266",
   "metadata": {},
   "outputs": [],
   "source": [
    "alumno4 = Alumno('Pedro')"
   ]
  },
  {
   "cell_type": "code",
   "execution_count": 35,
   "id": "65c27cd9",
   "metadata": {},
   "outputs": [
    {
     "name": "stdout",
     "output_type": "stream",
     "text": [
      "Nombre Pedro Nota 9\n"
     ]
    }
   ],
   "source": [
    "print(alumno4)"
   ]
  },
  {
   "cell_type": "code",
   "execution_count": null,
   "id": "37206b46",
   "metadata": {},
   "outputs": [],
   "source": []
  },
  {
   "cell_type": "code",
   "execution_count": null,
   "id": "3f5a76e0",
   "metadata": {},
   "outputs": [],
   "source": []
  },
  {
   "cell_type": "code",
   "execution_count": 36,
   "id": "bd46d27d",
   "metadata": {},
   "outputs": [
    {
     "name": "stdout",
     "output_type": "stream",
     "text": [
      "Nombre ivan Nota 8\n"
     ]
    }
   ],
   "source": [
    "# imprimimos los datos y resultados de cada alumno\n",
    "print(alumno1)"
   ]
  },
  {
   "cell_type": "code",
   "execution_count": 37,
   "id": "6dfd8a7c",
   "metadata": {},
   "outputs": [
    {
     "name": "stdout",
     "output_type": "stream",
     "text": [
      "El alumno ha aprobado\n"
     ]
    }
   ],
   "source": [
    "alumno1.resultado()"
   ]
  },
  {
   "cell_type": "code",
   "execution_count": 38,
   "id": "d85d9c11",
   "metadata": {},
   "outputs": [
    {
     "name": "stdout",
     "output_type": "stream",
     "text": [
      "Nombre juan Nota 4\n",
      "El alumno ha suspendido\n"
     ]
    }
   ],
   "source": [
    "print(alumno2)\n",
    "alumno2.resultado()"
   ]
  },
  {
   "cell_type": "code",
   "execution_count": null,
   "id": "f437db46",
   "metadata": {},
   "outputs": [],
   "source": []
  },
  {
   "cell_type": "code",
   "execution_count": 39,
   "id": "0fed17f8",
   "metadata": {},
   "outputs": [],
   "source": [
    "class Coche:\n",
    "    ruedas = 4\n",
    "    def __init__(self,color,aceleracion):\n",
    "        self.color = color\n",
    "        self.aceleracion = aceleracion\n",
    "        self.velocidad = 0\n",
    "        \n",
    "    def acelerar(self):\n",
    "        self.velocidad = self.velocidad + self.aceleracion\n",
    "        \n",
    "    def frenar(self):\n",
    "        v = self.velocidad - self.aceleracion\n",
    "        if v < 0:\n",
    "            v = 0\n",
    "        self.velocidad = v\n",
    "        "
   ]
  },
  {
   "cell_type": "code",
   "execution_count": null,
   "id": "dc888288",
   "metadata": {},
   "outputs": [],
   "source": []
  },
  {
   "cell_type": "code",
   "execution_count": 40,
   "id": "3599e752",
   "metadata": {},
   "outputs": [],
   "source": [
    "class CocheVolador(Coche):\n",
    "    ruedas = 6\n",
    "    def __init__(self, color, aceleracion, esta_volando=False):\n",
    "        super().__init__(color, aceleracion)\n",
    "        self.esta_volando = esta_volando\n",
    "    def vuela(self):\n",
    "         self.esta_volando = True\n",
    "    def aterriza(self):\n",
    "         self.esta_volando = False"
   ]
  },
  {
   "cell_type": "code",
   "execution_count": 41,
   "id": "73b26892",
   "metadata": {},
   "outputs": [],
   "source": [
    "c = Coche('azul', 10)"
   ]
  },
  {
   "cell_type": "code",
   "execution_count": 42,
   "id": "0c48d3f0",
   "metadata": {},
   "outputs": [],
   "source": [
    "cv1 = CocheVolador('rojo', 60)"
   ]
  },
  {
   "cell_type": "code",
   "execution_count": 43,
   "id": "b1738efd",
   "metadata": {},
   "outputs": [
    {
     "name": "stdout",
     "output_type": "stream",
     "text": [
      "rojo\n"
     ]
    }
   ],
   "source": [
    "print(cv1.color)"
   ]
  },
  {
   "cell_type": "code",
   "execution_count": 44,
   "id": "43054e0b",
   "metadata": {},
   "outputs": [
    {
     "name": "stdout",
     "output_type": "stream",
     "text": [
      "False\n"
     ]
    }
   ],
   "source": [
    "print(cv1.esta_volando)"
   ]
  },
  {
   "cell_type": "code",
   "execution_count": 45,
   "id": "ac566ad7",
   "metadata": {},
   "outputs": [],
   "source": [
    "cv1.acelerar()\n"
   ]
  },
  {
   "cell_type": "code",
   "execution_count": 46,
   "id": "f8689255",
   "metadata": {},
   "outputs": [
    {
     "name": "stdout",
     "output_type": "stream",
     "text": [
      "60\n"
     ]
    }
   ],
   "source": [
    "print(cv1.velocidad)"
   ]
  },
  {
   "cell_type": "code",
   "execution_count": 47,
   "id": "38f8728d",
   "metadata": {},
   "outputs": [
    {
     "name": "stdout",
     "output_type": "stream",
     "text": [
      "6\n"
     ]
    }
   ],
   "source": [
    "print(CocheVolador.ruedas)"
   ]
  },
  {
   "cell_type": "code",
   "execution_count": 48,
   "id": "c054445d",
   "metadata": {},
   "outputs": [
    {
     "ename": "AttributeError",
     "evalue": "'Coche' object has no attribute 'esta_volando'",
     "output_type": "error",
     "traceback": [
      "\u001b[1;31m---------------------------------------------------------------------------\u001b[0m",
      "\u001b[1;31mAttributeError\u001b[0m                            Traceback (most recent call last)",
      "Cell \u001b[1;32mIn[48], line 1\u001b[0m\n\u001b[1;32m----> 1\u001b[0m \u001b[38;5;28mprint\u001b[39m(c\u001b[38;5;241m.\u001b[39mesta_volando)\n",
      "\u001b[1;31mAttributeError\u001b[0m: 'Coche' object has no attribute 'esta_volando'"
     ]
    }
   ],
   "source": [
    "print(c.esta_volando)\n"
   ]
  },
  {
   "cell_type": "code",
   "execution_count": 133,
   "id": "ade23a85",
   "metadata": {},
   "outputs": [
    {
     "name": "stdout",
     "output_type": "stream",
     "text": [
      "Animal genérico está comiendo.\n",
      "Animal genérico está durmiendo.\n",
      "Fido está comiendo.\n",
      "Fido está durmiendo.\n",
      "Fido está ladrando.\n",
      "Raza del perro: Labrador\n"
     ]
    }
   ],
   "source": [
    "# Definición de la clase base (superclase)\n",
    "class Animal:\n",
    "    def __init__(self, nombre):\n",
    "        self.nombre = nombre\n",
    " \n",
    "    def comer(self):\n",
    "        print(f\"{self.nombre} está comiendo.\")\n",
    "    def dormir(self):\n",
    "        print(f\"{self.nombre} está durmiendo.\")\n",
    "# Definición de una clase derivada (subclase) que hereda de Animal\n",
    "\n",
    "class Perro(Animal):\n",
    "    def __init__(self, nombre, raza):\n",
    "        super().__init__(nombre)\n",
    "        self.raza = raza\n",
    "    def ladrar(self):\n",
    "        print(f\"{self.nombre} está ladrando.\")\n",
    "# Creación de instancias de las clases\n",
    "\n",
    "animal_generico = Animal(\"Animal genérico\")\n",
    "animal_generico.comer()\n",
    "animal_generico.dormir()\n",
    "perro1 = Perro(\"Fido\", \"Labrador\")\n",
    "perro1.comer()\n",
    "perro1.dormir()\n",
    "perro1.ladrar()\n",
    "print(f\"Raza del perro: {perro1.raza}\")"
   ]
  },
  {
   "cell_type": "code",
   "execution_count": 134,
   "id": "7b6fa8ab",
   "metadata": {},
   "outputs": [
    {
     "name": "stdout",
     "output_type": "stream",
     "text": [
      "Coche Rojo está en movimiento.\n",
      "¡Beep beep!\n",
      "Color del coche: Rojo\n"
     ]
    }
   ],
   "source": [
    "# Definición de la clase base (superclase)\n",
    "class Vehiculo:\n",
    "    def __init__(self, nombre):\n",
    "        self.nombre = nombre\n",
    " \n",
    "    def moverse(self):\n",
    "         print(f\"{self.nombre} está en movimiento.\")\n",
    "# Definición de una clase derivada (subclase) que hereda de Vehiculo\n",
    "\n",
    "class Automovil(Vehiculo):\n",
    "    def __init__(self, nombre, color):\n",
    "        super().__init__(nombre)\n",
    "        self.color = color\n",
    "    def sonar_bocina(self):\n",
    "         print(\"¡Beep beep!\")\n",
    "# Creación de instancias de las clases\n",
    "auto_rojo = Automovil(\"Coche Rojo\", \"Rojo\")\n",
    "auto_rojo.moverse()\n",
    "auto_rojo.sonar_bocina()\n",
    "print(f\"Color del coche: {auto_rojo.color}\")"
   ]
  },
  {
   "cell_type": "code",
   "execution_count": null,
   "id": "19887068",
   "metadata": {},
   "outputs": [],
   "source": []
  }
 ],
 "metadata": {
  "kernelspec": {
   "display_name": "Python [conda env:base] *",
   "language": "python",
   "name": "conda-base-py"
  },
  "language_info": {
   "codemirror_mode": {
    "name": "ipython",
    "version": 3
   },
   "file_extension": ".py",
   "mimetype": "text/x-python",
   "name": "python",
   "nbconvert_exporter": "python",
   "pygments_lexer": "ipython3",
   "version": "3.12.7"
  }
 },
 "nbformat": 4,
 "nbformat_minor": 5
}
