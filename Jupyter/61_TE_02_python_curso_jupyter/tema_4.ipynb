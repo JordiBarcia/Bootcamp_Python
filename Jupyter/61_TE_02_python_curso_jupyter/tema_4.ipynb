{
 "cells": [
  {
   "cell_type": "markdown",
   "metadata": {
    "slideshow": {
     "slide_type": "slide"
    },
    "tags": []
   },
   "source": [
    "<font size=6>\n",
    "\n",
    "<b>Curso de Programación en Python</b>\n",
    "</font>\n"
   ]
  },
  {
   "cell_type": "markdown",
   "metadata": {},
   "source": [
    "# Tema 4 - Iterables y bucles (II): Diccionarios"
   ]
  },
  {
   "cell_type": "markdown",
   "metadata": {},
   "source": [
    "## Objetivos\n",
    "\n",
    "- Conocer cómo funcionan los diccionarios (_mapas_) en Python\n",
    "\n",
    "- Conocer algunas funciones y sentencias adicionales para el trabajo con bucles e iterables. \n",
    "\n",
    "- Conocer los bucles con la sentencia `while`"
   ]
  },
  {
   "cell_type": "markdown",
   "metadata": {},
   "source": [
    "## Diccionarios\n",
    "\n",
    "Los diccionarios en Python son iterables que asocian claves y valores (_mapas_, _hash arrays_).\n",
    "\n",
    "- Las claves deben ser inmutables (enteros, strings, tuplas).\n",
    "- Los valores pueden ser cualquier tipo de objeto."
   ]
  },
  {
   "cell_type": "code",
   "execution_count": null,
   "metadata": {},
   "outputs": [],
   "source": [
    "d = {'a': 1, 'b': 5}\n",
    "print(d)"
   ]
  },
  {
   "cell_type": "code",
   "execution_count": null,
   "metadata": {},
   "outputs": [],
   "source": [
    "d = dict(a=1, b=5)\n",
    "print(d)"
   ]
  },
  {
   "cell_type": "markdown",
   "metadata": {},
   "source": [
    "- El acceso para leer o modificar un valor concreta usa el operador `[]`"
   ]
  },
  {
   "cell_type": "code",
   "execution_count": null,
   "metadata": {},
   "outputs": [],
   "source": [
    "print(d['a'])"
   ]
  },
  {
   "cell_type": "code",
   "execution_count": null,
   "metadata": {},
   "outputs": [],
   "source": [
    "d['c'] = 10\n",
    "print(d)"
   ]
  },
  {
   "cell_type": "code",
   "execution_count": null,
   "metadata": {},
   "outputs": [],
   "source": [
    "d2 = {}\n",
    "print(d2)\n",
    "d2[0] = 100\n",
    "print(d2)"
   ]
  },
  {
   "cell_type": "markdown",
   "metadata": {},
   "source": [
    "- Los diccionarios son iterables\n",
    "  - Cuando se recorre (itera) un diccionario, se recorren las claves.\n",
    "  - El orden de las claves es el de creación/inserción para Python >= 3.6 (anteriormente, estaba indefinido)"
   ]
  },
  {
   "cell_type": "code",
   "execution_count": null,
   "metadata": {},
   "outputs": [],
   "source": [
    "print(\"Longitud:\", len(d))\n",
    "print(\"¿Contiene la clave 'b'?:\", 'b' in d)\n",
    "for k in d:\n",
    "    print(k, d[k])"
   ]
  },
  {
   "cell_type": "markdown",
   "metadata": {},
   "source": [
    "- La función `update` puede usarse para combinar o actualizar diccionarios"
   ]
  },
  {
   "cell_type": "code",
   "execution_count": null,
   "metadata": {},
   "outputs": [],
   "source": [
    "d1 = {'pepe': 1, 'elena': 2}\n",
    "d2 = {'maria': 100, 'elena': 500}\n",
    "d1.update(d2)\n",
    "print(d1)"
   ]
  },
  {
   "cell_type": "markdown",
   "metadata": {},
   "source": [
    "### Dictionary views\n",
    "\n",
    "Los métodos de diccionario `keys`, `values`, `items`, devuelven objetos de tipo _view_.\n",
    "\n",
    "> **Nota:** en Python 2 estos métodos devuelven listas.\n",
    "\n",
    "- Estos objetos son una _vista_ del contenido del diccionario (ofreciendo un interfaz adicional)\n",
    "- Si el diccionario subyacente varía, las vistas varían también\n",
    "- En muchos aspectos se comportan comos los _sets_."
   ]
  },
  {
   "cell_type": "code",
   "execution_count": null,
   "metadata": {},
   "outputs": [],
   "source": [
    "d = {'a': 1, 'b': 2, 'c': 3}\n",
    "kview = d.keys()\n",
    "print(kview)\n",
    "print()\n",
    "for k in kview:  print(k, '-->', d[k])\n",
    "print()\n",
    "for k in d:  print(k, '-->', d[k])    "
   ]
  },
  {
   "cell_type": "code",
   "execution_count": null,
   "metadata": {},
   "outputs": [],
   "source": [
    "del d['a']\n",
    "print(d)\n",
    "print(kview)"
   ]
  },
  {
   "cell_type": "code",
   "execution_count": null,
   "metadata": {},
   "outputs": [],
   "source": [
    "vview = d.values()\n",
    "print(vview)\n",
    "for val in d.values():\n",
    "    print(val)"
   ]
  },
  {
   "cell_type": "code",
   "execution_count": null,
   "metadata": {},
   "outputs": [],
   "source": [
    "iview = d.items()\n",
    "print(iview)"
   ]
  },
  {
   "cell_type": "code",
   "execution_count": null,
   "metadata": {},
   "outputs": [],
   "source": [
    "for k, v in d.items():\n",
    "    print(k, '-->', v)\n",
    "\n",
    "print()\n",
    "for k in d:  \n",
    "    print(k, '-->', d[k])    "
   ]
  },
  {
   "cell_type": "markdown",
   "metadata": {},
   "source": [
    "<br/>\n",
    "\n",
    "## Algunas funciones adicionales con iterables"
   ]
  },
  {
   "cell_type": "markdown",
   "metadata": {},
   "source": [
    "`enumerate(iterable)`: devuelve un nuevo iterable (perezoso), que genera tuplas de 2 elementos: el primero un índice entero (creciente desde 0), y el segundo el elemento correspondiente del argumento.\n",
    "\n",
    "- Es decir, numera los elementos del iterable.\n",
    "\n",
    "![enumerate](images/t4_enumerate.png)\n",
    "  <br/>"
   ]
  },
  {
   "cell_type": "code",
   "execution_count": null,
   "metadata": {},
   "outputs": [],
   "source": [
    "l = ['a', 'b', 'c']\n",
    "# print(list(enumerate(l)))\n",
    "for i, x in enumerate(l):  print(i, x)"
   ]
  },
  {
   "cell_type": "code",
   "execution_count": null,
   "metadata": {},
   "outputs": [],
   "source": [
    "d = {'a': 10, 'b': 20}\n",
    "for i, k in enumerate(d):  print(i, k)"
   ]
  },
  {
   "cell_type": "markdown",
   "metadata": {},
   "source": [
    "<br/>\n",
    "\n",
    "`zip(iter_1, iter_2, ..., iter_N)`: devuelve un iterable (perezoso), que genera tuplas de `N` elementos, cogiendo uno de cada argumento, por orden, hasta que alguno de los argumentos se quede sin elementos.\n",
    "\n",
    "- Es decir, que combina los elementos de diferentes iterables, tomándolos 1 a 1. \n",
    "- También se podría considerar una manera de _transponer_ vectores.\n",
    "\n",
    "![zip](images/t4_zip.png)\n",
    "  <br/>\n",
    "  "
   ]
  },
  {
   "cell_type": "code",
   "execution_count": null,
   "metadata": {},
   "outputs": [],
   "source": [
    "figures = 'circulo', 'cuadrado', 'triangulo'\n",
    "colors = 'azul', 'rojo', 'amarillo'\n",
    "for fig, color in zip(figures, colors):\n",
    "    print(\"El\", fig, \"es\", color)"
   ]
  },
  {
   "cell_type": "code",
   "execution_count": null,
   "metadata": {},
   "outputs": [],
   "source": [
    "x = 'abcd'  # x = ['a', 'b', 'c', 'd']\n",
    "y = (0, 1, 2, 3)\n",
    "z = '.-,:'\n",
    "\n",
    "for v1, v2, v3 in zip(x, y, z):\n",
    "    print(v1, v2, v3)\n",
    "print()\n",
    "\n",
    "a, b, c, d = zip(x, y, z)\n",
    "print(a, b, c, d)"
   ]
  },
  {
   "cell_type": "markdown",
   "metadata": {},
   "source": [
    "<br/>\n",
    "\n",
    "`object.copy()`: función común a muchos de los iterables que hemos visto (aunque no a todos). Devuelve una copia _superficial_ del objeto.\n",
    "\n",
    "- _Superficial_ quiere decir que si los elementos contenidos, a su vez, con contenedores de otros elementos, no se copian sus contenidos recursivamente, sino que se hace una referencia a ellos.\n",
    "\n",
    "  - Si los elementos son modificables, entonces un cambio en uno de ellos afectará al iterable original y a su copia.\n",
    "\n",
    "![copy](images/t4_copy.png)\n",
    "\n",
    "Existe un módulo `copy`, que ofrece métodos para copia genérica, tanto superficial como profunda (recursiva) de objetos Python.\n",
    "\n",
    "- Si los elementos son inmutables (enteros, strings, tuplas...), los dos tipos de copias son equivalentes.\n"
   ]
  },
  {
   "cell_type": "code",
   "execution_count": null,
   "metadata": {},
   "outputs": [],
   "source": [
    "l = [(0, 0), 'X']\n",
    "l_b = l\n",
    "l2 = l.copy()\n",
    "l[0] = (1, 1)\n",
    "print('   l:', l)\n",
    "print(' l_b:', l_b)\n",
    "print('  l2:', l2)"
   ]
  },
  {
   "cell_type": "code",
   "execution_count": null,
   "metadata": {},
   "outputs": [],
   "source": [
    "l = [[0, 0], 'X']\n",
    "l_b = l\n",
    "l2 = l.copy()\n",
    "l[0][0] = 1\n",
    "print('   l:', l)\n",
    "print(' l_b:', l_b)\n",
    "print('  l2:', l2)"
   ]
  },
  {
   "cell_type": "markdown",
   "metadata": {},
   "source": [
    "## Más sobre bucles\n",
    "\n",
    "Las sentencias `break`y `continue` alteran la ejecución normal de un bucle.\n",
    "\n",
    "- `break` provoca que acabe el bucle actual (si hay varios, el más profundo), y se pase a la instrucción que sigue al bucle.\n",
    "\n",
    "- `continue` provoca que se salte a la siguiente iteración, sin ejecutar las instrucciones que faltan de la iteración actual."
   ]
  },
  {
   "cell_type": "code",
   "execution_count": null,
   "metadata": {},
   "outputs": [],
   "source": [
    "for x in range(10):\n",
    "    if x == 2:  continue\n",
    "    if x == 5:  break\n",
    "    print(x)\n",
    "print('Fuera')"
   ]
  },
  {
   "cell_type": "markdown",
   "metadata": {},
   "source": [
    "<br/>\n",
    "\n",
    "La sentencia `while` sirve para crear bucles, de manera diferente a `for`:\n",
    "\n",
    "```python\n",
    "    while <condicion-es-True>:\n",
    "        instrucción\n",
    "        ...\n",
    "```\n",
    "\n",
    "En la práctica, en Python se usa mucho más `for` que `while`, pero en ocasiones es útil."
   ]
  },
  {
   "cell_type": "code",
   "execution_count": null,
   "metadata": {},
   "outputs": [],
   "source": [
    "i = 1\n",
    "finished = False\n",
    "\n",
    "while not finished:\n",
    "    print(i)\n",
    "    i += 1\n",
    "    finished = (i > 3)\n"
   ]
  }
 ],
 "metadata": {
  "kernelspec": {
   "display_name": "Python 3 (ipykernel)",
   "language": "python",
   "name": "python3"
  },
  "language_info": {
   "codemirror_mode": {
    "name": "ipython",
    "version": 3
   },
   "file_extension": ".py",
   "mimetype": "text/x-python",
   "name": "python",
   "nbconvert_exporter": "python",
   "pygments_lexer": "ipython3",
   "version": "3.11.4"
  }
 },
 "nbformat": 4,
 "nbformat_minor": 4
}
