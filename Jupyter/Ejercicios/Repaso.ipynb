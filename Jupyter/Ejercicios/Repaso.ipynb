{
 "cells": [
  {
   "cell_type": "code",
   "execution_count": 1,
   "id": "0ff49096-7ae7-4f2e-813e-9a9ff40a09b7",
   "metadata": {},
   "outputs": [
    {
     "data": {
      "text/plain": [
       "{0: 1, 1: 2.3, 2: 'Hola k ase', 3: [1, 2, 3, 'Oscar']}"
      ]
     },
     "execution_count": 1,
     "metadata": {},
     "output_type": "execute_result"
    }
   ],
   "source": [
    "frutas = [1,2.3,'Hola k ase', [1,2,3, 'Oscar']]\n",
    "diccionario = {i : fruta for i, fruta in enumerate(frutas)} ##Recorremos la lista y la convertimos en un diccionario por compresion, i es el indice y frutas es el valor del indice\n",
    "diccionario"
   ]
  },
  {
   "cell_type": "code",
   "execution_count": 3,
   "id": "036ed452-2258-46a2-844b-7530d7e67e2e",
   "metadata": {},
   "outputs": [
    {
     "data": {
      "text/plain": [
       "{0: 1, 1: 2.3, 2: 'Hola k ase', 3: [1, 2, 3, 'Oscar']}"
      ]
     },
     "execution_count": 3,
     "metadata": {},
     "output_type": "execute_result"
    }
   ],
   "source": [
    "diccionario = dict(enumerate(frutas)) ## Misma solucion, mucho mas sencilla y rapida.\n",
    "diccionario"
   ]
  },
  {
   "cell_type": "code",
   "execution_count": 17,
   "id": "bb3f1347-9f12-461c-b8f1-662c324d9413",
   "metadata": {},
   "outputs": [
    {
     "data": {
      "text/plain": [
       "[1, 2.3, 'Hola k ase', [1, 2, 3, 'Oscar']]"
      ]
     },
     "execution_count": 17,
     "metadata": {},
     "output_type": "execute_result"
    }
   ],
   "source": [
    "lista3 = [v for v in diccionario.values()]\n",
    "lista3"
   ]
  },
  {
   "cell_type": "code",
   "execution_count": null,
   "id": "a07bc590-d4a0-40a1-8131-2a0e36b5baed",
   "metadata": {},
   "outputs": [],
   "source": []
  }
 ],
 "metadata": {
  "kernelspec": {
   "display_name": "Python [conda env:base] *",
   "language": "python",
   "name": "conda-base-py"
  },
  "language_info": {
   "codemirror_mode": {
    "name": "ipython",
    "version": 3
   },
   "file_extension": ".py",
   "mimetype": "text/x-python",
   "name": "python",
   "nbconvert_exporter": "python",
   "pygments_lexer": "ipython3",
   "version": "3.12.7"
  }
 },
 "nbformat": 4,
 "nbformat_minor": 5
}
