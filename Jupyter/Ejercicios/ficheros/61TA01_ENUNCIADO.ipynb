{
 "cells": [
  {
   "cell_type": "markdown",
   "id": "7a8c58c7-b0fe-4c9b-a931-91a3cb278705",
   "metadata": {},
   "source": [
    "# Procesamiento de Datos de Ventas"
   ]
  },
  {
   "cell_type": "markdown",
   "id": "6fb616c1-9c44-4279-bc2e-c2fd3752632b",
   "metadata": {},
   "source": [
    "Enunciado:\n",
    "Tienes un archivo de texto llamado ventas.txt que contiene información sobre las ventas de una tienda en el siguiente formato:"
   ]
  },
  {
   "cell_type": "raw",
   "id": "f59fda33-cfbd-4ec7-aec6-16d69b964c92",
   "metadata": {},
   "source": [
    "Producto, Categoría, Precio, Cantidad\n",
    "Laptop, Electrónica, 800, 2\n",
    "Silla, Muebles, 150, 5\n",
    "Teclado, Electrónica, 50, 3\n",
    "Mesa, Muebles, 200, 1\n",
    "Auriculares, Electrónica, 120, 4\n",
    "Cámara, Fotografía, 400, 2\n"
   ]
  },
  {
   "cell_type": "markdown",
   "id": "b7476864-3639-4b8e-9893-7945fccfa353",
   "metadata": {},
   "source": [
    "Tienes que realizar las siguientes tareas para procesar y analizar estos datos utilizando Python. Cada subtarea está asociada a un tema específico que se debe practicar:"
   ]
  },
  {
   "cell_type": "markdown",
   "id": "9b873fc1-f171-4390-bf4b-c7f6dc0a988f",
   "metadata": {},
   "source": [
    "## Subtarea 1: Leer y procesar el archivo\n",
    "### Tema: Lectura de Archivos y Manejo de Datos\n",
    "\n",
    "Leer el archivo y extraer los datos en formato adecuado (diccionario, lista, tupla, etc.). Cada línea del archivo representa una venta, que incluye producto, categoría, precio y cantidad. Guarda esta información en un diccionario donde la clave sea el nombre del producto y el valor sea una tupla con los detalles de cada venta."
   ]
  },
  {
   "cell_type": "code",
   "execution_count": 7,
   "id": "6ddb5119-89df-4588-8b7d-58e6a4513b1d",
   "metadata": {},
   "outputs": [
    {
     "data": {
      "text/plain": [
       "{'Laptop': (' Electrónica', 800.0, 2),\n",
       " 'Silla': (' Muebles', 150.0, 5),\n",
       " 'Teclado': (' Electrónica', 50.0, 3),\n",
       " 'Mesa': (' Muebles', 200.0, 1),\n",
       " 'Auriculares': (' Electrónica', 120.0, 4),\n",
       " 'Cámara': (' Fotografía', 400.0, 2),\n",
       " 'Móvil': (' Electrónica', 600.0, 3),\n",
       " 'Sofá': (' Muebles', 1000.0, 1),\n",
       " 'Impresora': (' Electrónica', 250.0, 5),\n",
       " 'Lámpara': (' Muebles', 80.0, 7),\n",
       " 'Monitor': (' Electrónica', 300.0, 2),\n",
       " 'Estante': (' Muebles', 120.0, 4),\n",
       " 'Proyector': (' Electrónica', 450.0, 3),\n",
       " 'Reloj': (' Joyería', 200.0, 6),\n",
       " 'Pulsera': (' Joyería', 100.0, 8),\n",
       " 'Cargador': (' Electrónica', 30.0, 10),\n",
       " 'Altavoces': (' Electrónica', 150.0, 2),\n",
       " 'Cámara de seguridad': (' Electrónica', 120.0, 4),\n",
       " 'Bicicleta': (' Deportes', 350.0, 2),\n",
       " 'Casco': (' Deportes', 50.0, 6),\n",
       " 'Silla de oficina': (' Muebles', 200.0, 3),\n",
       " 'Gafas de sol': (' Joyería', 120.0, 5),\n",
       " 'Teclado inalámbrico': (' Electrónica', 60.0, 3),\n",
       " 'Microondas': (' Electrodomésticos', 120.0, 2),\n",
       " 'Tetera': (' Electrodomésticos', 35.0, 7),\n",
       " 'Aspiradora': (' Electrodomésticos', 180.0, 4),\n",
       " 'Secador de pelo': (' Electrodomésticos', 50.0, 5),\n",
       " 'Plancha': (' Electrodomésticos', 70.0, 3),\n",
       " 'Nevera': (' Electrodomésticos', 700.0, 1),\n",
       " 'Cafetera': (' Electrodomésticos', 100.0, 3)}"
      ]
     },
     "execution_count": 7,
     "metadata": {},
     "output_type": "execute_result"
    }
   ],
   "source": [
    "def leer_datos(fichero):\n",
    "    salida = {}\n",
    "    with open(fichero,'r', encoding = 'utf-8') as file:\n",
    "        next(file) ##  Nos saltamos la primera linea\n",
    "        next(file) ##  Nos saltamos la segunda linea\n",
    "        for linea in file: ## Iteramos linea por linea\n",
    "            if linea.strip(): ## Por si nos encontramos una linea en blanco en medio\n",
    "                producto, categoria, precio, unidades = linea.split(',') ## Guardamos en una variable cada zona unidad de la linea\n",
    "                salida[producto] = (categoria,float(precio),int(unidades)) ## lo añadimos al diccionario como clave producto y el valor una tupla de lo restante\n",
    "    return salida\n",
    "data = leer_datos('ventas.txt')\n",
    "data"
   ]
  },
  {
   "cell_type": "code",
   "execution_count": null,
   "id": "35eec436-7cc1-4a60-bd0d-66ad0c982fbf",
   "metadata": {},
   "outputs": [],
   "source": []
  },
  {
   "cell_type": "markdown",
   "id": "b5c7ca9a-4e2c-4ddd-9f9f-db3ab7e386c5",
   "metadata": {},
   "source": [
    "## Ejercicio 1: Calcular el total de ventas por producto\n",
    "### Nivel de dificultad: Básico\n",
    "\n",
    "Escribe una función que reciba un diccionario con los productos, sus precios y cantidades, y calcule el total de ventas para cada producto. La salida debe ser un diccionario con los productos como claves y el total de ventas como valor.\n",
    "\n",
    "Instrucciones:\n",
    "\n",
    "- Usa un ciclo for para recorrer el diccionario.\n",
    "- Para cada producto, multiplica el precio por la cantidad para obtener el total de ventas.\n",
    "- Devuelve un diccionario con el producto y su total de ventas."
   ]
  },
  {
   "cell_type": "raw",
   "id": "db331d8c-33f8-471f-9354-352b401d4a5e",
   "metadata": {},
   "source": [
    "# Ejemplo entrada\n",
    "productos = {\n",
    "    \"Laptop\": (800, 2),\n",
    "    \"Silla\": (150, 5),\n",
    "    \"Teclado\": (50, 3),\n",
    "    \"Auriculares\": (120, 4)\n",
    "}"
   ]
  },
  {
   "cell_type": "raw",
   "id": "af497cbd-ce13-4633-902f-4e98e9ce085c",
   "metadata": {},
   "source": [
    "#salida esperada\n",
    "{\n",
    "    \"Laptop\": 1600,\n",
    "    \"Silla\": 750,\n",
    "    \"Teclado\": 150,\n",
    "    \"Auriculares\": 480\n",
    "}\n"
   ]
  },
  {
   "cell_type": "code",
   "execution_count": 9,
   "id": "71675350-7dc3-4381-bb5f-01417cbdd4bd",
   "metadata": {},
   "outputs": [
    {
     "data": {
      "text/plain": [
       "{'Laptop': 1600.0,\n",
       " 'Silla': 750.0,\n",
       " 'Teclado': 150.0,\n",
       " 'Mesa': 200.0,\n",
       " 'Auriculares': 480.0,\n",
       " 'Cámara': 800.0,\n",
       " 'Móvil': 1800.0,\n",
       " 'Sofá': 1000.0,\n",
       " 'Impresora': 1250.0,\n",
       " 'Lámpara': 560.0,\n",
       " 'Monitor': 600.0,\n",
       " 'Estante': 480.0,\n",
       " 'Proyector': 1350.0,\n",
       " 'Reloj': 1200.0,\n",
       " 'Pulsera': 800.0,\n",
       " 'Cargador': 300.0,\n",
       " 'Altavoces': 300.0,\n",
       " 'Cámara de seguridad': 480.0,\n",
       " 'Bicicleta': 700.0,\n",
       " 'Casco': 300.0,\n",
       " 'Silla de oficina': 600.0,\n",
       " 'Gafas de sol': 600.0,\n",
       " 'Teclado inalámbrico': 180.0,\n",
       " 'Microondas': 240.0,\n",
       " 'Tetera': 245.0,\n",
       " 'Aspiradora': 720.0,\n",
       " 'Secador de pelo': 250.0,\n",
       " 'Plancha': 210.0,\n",
       " 'Nevera': 700.0,\n",
       " 'Cafetera': 300.0}"
      ]
     },
     "execution_count": 9,
     "metadata": {},
     "output_type": "execute_result"
    }
   ],
   "source": [
    "data = leer_datos('ventas.txt')\n",
    "data\n",
    "def ventas(data):\n",
    "    return {k:v2*v3 for k,(v1,v2,v3) in data.items()} ## Hacemos un diccionario por compresion para sacar los elementos deseados\n",
    "ventas(data)"
   ]
  },
  {
   "cell_type": "markdown",
   "id": "0c84709d-5230-4fe0-93c6-612356c8849d",
   "metadata": {},
   "source": [
    "## Ejercicio 2: Filtrar productos según su total de ventas\n",
    "### Nivel de dificultad: Intermedio\n",
    "\n",
    "Enunciado: Escribe una función que reciba un diccionario con productos y sus totales de ventas, y filtre aquellos productos cuyo total de ventas sea superior a un valor dado.\n",
    "\n",
    "Instrucciones:\n",
    "\n",
    "- Usa una función para calcular los totales de ventas, como en el ejercicio anterior.\n",
    "- Filtra los productos que tienen un total de ventas superior a un valor dado usando un if dentro de un ciclo for.\n",
    "- Devuelve un diccionario con los productos filtrados."
   ]
  },
  {
   "cell_type": "code",
   "execution_count": 29,
   "id": "d03fc783-3059-4ae5-96f1-5696d6d70fab",
   "metadata": {},
   "outputs": [
    {
     "data": {
      "text/plain": [
       "{'Laptop': 1600.0,\n",
       " 'Silla': 750.0,\n",
       " 'Cámara': 800.0,\n",
       " 'Móvil': 1800.0,\n",
       " 'Sofá': 1000.0,\n",
       " 'Impresora': 1250.0,\n",
       " 'Lámpara': 560.0,\n",
       " 'Monitor': 600.0,\n",
       " 'Proyector': 1350.0,\n",
       " 'Reloj': 1200.0,\n",
       " 'Pulsera': 800.0,\n",
       " 'Bicicleta': 700.0,\n",
       " 'Silla de oficina': 600.0,\n",
       " 'Gafas de sol': 600.0,\n",
       " 'Aspiradora': 720.0,\n",
       " 'Nevera': 700.0}"
      ]
     },
     "execution_count": 29,
     "metadata": {},
     "output_type": "execute_result"
    }
   ],
   "source": [
    "def total_ventas(data, valor):\n",
    "    return { k:v for k,v in data.items() if valor < v}\n",
    "data = leer_datos('ventas.txt')\n",
    "data = ventas(data)\n",
    "total_ventas(data, 500)"
   ]
  },
  {
   "cell_type": "markdown",
   "id": "1b8e9ccb-d759-454e-8199-96f295b623d1",
   "metadata": {},
   "source": [
    "## Ejercicio 3: Generar un informe de ventas con un resumen\n",
    "### Nivel de dificultad: Avanzado\n",
    "\n",
    "Enunciado: Escribe una función que reciba un diccionario de productos con sus precios y cantidades, y genere un informe con el total de ventas por producto, el total de ventas general y el producto más vendido. El informe debe ser una cadena de texto con el siguiente formato:\n",
    "\n",
    "\n",
    "Informe de ventas:\n",
    "Producto: Laptop | Total: 1600\n",
    "Producto: Silla | Total: 750\n",
    "...\n",
    "Total general de ventas: 2830\n",
    "Producto más vendido: Laptop (1600)\n",
    "\n",
    "Instrucciones:\n",
    "\n",
    "- Usa una función para calcular el total de ventas por producto.\n",
    "- Calcula el total de ventas general sumando todos los totales de productos.\n",
    "- Encuentra el producto más vendido mediante la función max().\n",
    "- Devuelve el informe en formato de cadena."
   ]
  },
  {
   "cell_type": "code",
   "execution_count": 41,
   "id": "1fd04586-453b-4eb4-979b-6fa0b4ddc40d",
   "metadata": {},
   "outputs": [
    {
     "name": "stdout",
     "output_type": "stream",
     "text": [
      "Total de ventas: 19145.0\n",
      "Producto mas vendido: Cargador\n"
     ]
    }
   ],
   "source": [
    "def informe(productos):\n",
    "    ventas_totales = 0\n",
    "    mas_vendido = 0\n",
    "    producto_mas_vendido = ''\n",
    "    for producto,(v1,v2,v3) in productos.items():\n",
    "        ventas_totales += v2*v3\n",
    "        if v3 > mas_vendido: \n",
    "            mas_vendido = v3\n",
    "            producto_mas_vendido = producto\n",
    "    print(f'Total de ventas: {ventas_totales}')\n",
    "    print(f'Producto mas vendido: {producto_mas_vendido}')\n",
    "\n",
    "data = leer_datos('ventas.txt')\n",
    "informe(data)"
   ]
  },
  {
   "cell_type": "markdown",
   "id": "f57f03ca-cc8b-4673-8988-53b44481de6c",
   "metadata": {},
   "source": [
    "## Subtarea 2: Filtrar productos de una categoría\n",
    "### Tema: Condicionales (if, elif, else) y Bucles (for, while)\n",
    "\n",
    "Filtrar los productos que pertenecen a la categoría \"Electrónica\" y calcula el total de ventas de estos productos (precio * cantidad)."
   ]
  },
  {
   "cell_type": "code",
   "execution_count": null,
   "id": "eca5f625-de2c-4461-b850-a4c043f27b83",
   "metadata": {},
   "outputs": [],
   "source": []
  },
  {
   "cell_type": "markdown",
   "id": "f4fac051-397e-4b8f-bc78-26b1a2d2601b",
   "metadata": {},
   "source": [
    "## Subtarea 3: Encontrar el producto más caro y el más vendido\n",
    "### Tema: Funciones y Funciones Lambda\n",
    "\n",
    "Encontrar el producto más caro y el producto que más cantidad se vendió utilizando funciones y expresiones lambda. Usa las funciones max() para obtener los productos con los valores más altos en precio y cantidad, respectivamente.\n",
    "python\n",
    "Copiar\n"
   ]
  },
  {
   "cell_type": "code",
   "execution_count": 51,
   "id": "7b6df674-99af-48d4-be3a-069b9dac96b9",
   "metadata": {},
   "outputs": [
    {
     "data": {
      "text/plain": [
       "(('Sofá', (' Muebles', 1000.0, 1)), ('Cargador', (' Electrónica', 30.0, 10)))"
      ]
     },
     "execution_count": 51,
     "metadata": {},
     "output_type": "execute_result"
    }
   ],
   "source": [
    "# {producto: (categoria, precio, unidades)}\n",
    "def productos_destacados(datos):\n",
    "    mas_caro = max(datos.items(), key = lambda x: x[1][1]) ## esta revisando el maximo valor del primer elemento del primer elemento [1][1]\n",
    "    mas_vendido = max(datos.items(), key = lambda x: x[1][2]) ## producto mas vendido\n",
    "    return mas_caro,mas_vendido\n",
    "data = leer_datos('ventas.txt')\n",
    "productos_destacados(data)"
   ]
  },
  {
   "cell_type": "markdown",
   "id": "fbf9a169-d802-4710-aad3-5c395079d6a9",
   "metadata": {},
   "source": [
    "## Subtarea 4: Filtrar productos usando listas por comprensión\n",
    "### Tema: Listas por Comprensión\n",
    "\n",
    "Filtrar productos cuyo precio sea mayor a 100 y hayan vendido más de 3 unidades. Utiliza listas por comprensión para obtener estos productos."
   ]
  },
  {
   "cell_type": "code",
   "execution_count": 55,
   "id": "51f6c949-2371-4b24-a079-95160772159d",
   "metadata": {},
   "outputs": [
    {
     "data": {
      "text/plain": [
       "['Silla',\n",
       " 'Auriculares',\n",
       " 'Impresora',\n",
       " 'Estante',\n",
       " 'Reloj',\n",
       " 'Cámara de seguridad',\n",
       " 'Gafas de sol',\n",
       " 'Aspiradora']"
      ]
     },
     "execution_count": 55,
     "metadata": {},
     "output_type": "execute_result"
    }
   ],
   "source": [
    "def productos_filtrados(datos):\n",
    "    return [k for k,(v1,v2,v3) in datos.items() if v2 > 100 and v3 > 3]\n",
    "\n",
    "data = leer_datos('ventas.txt')\n",
    "productos_filtrados(data)"
   ]
  },
  {
   "cell_type": "markdown",
   "id": "02ec488b-3d74-4fa4-9153-9dd680c12278",
   "metadata": {},
   "source": [
    "## Subtarea 5: Aplicar un descuento con map\n",
    "### Tema: Funciones y map()\n",
    "\n",
    "Aplicar un descuento del 10% a los productos cuya cantidad vendida sea mayor que 3. Utiliza la función map() para aplicar el descuento a todos los productos."
   ]
  },
  {
   "cell_type": "code",
   "execution_count": 65,
   "id": "2b4f61c0-c622-475a-aa28-2dfc7f22c224",
   "metadata": {},
   "outputs": [
    {
     "data": {
      "text/plain": [
       "[('Laptop', 800.0),\n",
       " ('Silla', 135.0),\n",
       " ('Teclado', 50.0),\n",
       " ('Mesa', 200.0),\n",
       " ('Auriculares', 108.0),\n",
       " ('Cámara', 400.0),\n",
       " ('Móvil', 600.0),\n",
       " ('Sofá', 1000.0),\n",
       " ('Impresora', 225.0),\n",
       " ('Lámpara', 72.0),\n",
       " ('Monitor', 300.0),\n",
       " ('Estante', 108.0),\n",
       " ('Proyector', 450.0),\n",
       " ('Reloj', 180.0),\n",
       " ('Pulsera', 90.0),\n",
       " ('Cargador', 27.0),\n",
       " ('Altavoces', 150.0),\n",
       " ('Cámara de seguridad', 108.0),\n",
       " ('Bicicleta', 350.0),\n",
       " ('Casco', 45.0),\n",
       " ('Silla de oficina', 200.0),\n",
       " ('Gafas de sol', 108.0),\n",
       " ('Teclado inalámbrico', 60.0),\n",
       " ('Microondas', 120.0),\n",
       " ('Tetera', 31.5),\n",
       " ('Aspiradora', 162.0),\n",
       " ('Secador de pelo', 45.0),\n",
       " ('Plancha', 70.0),\n",
       " ('Nevera', 700.0),\n",
       " ('Cafetera', 100.0)]"
      ]
     },
     "execution_count": 65,
     "metadata": {},
     "output_type": "execute_result"
    }
   ],
   "source": [
    "# {producto: (categoria,precio,unidades)}\n",
    "def descuento(precio, cantidad):\n",
    "    return (precio * 0.9 if cantidad > 3 else precio)\n",
    "def aplicar_descuento(datos):\n",
    "    return list(map(lambda x: (x[0], descuento(x[1][1], x[1][2])), datos.items()))\n",
    "data = leer_datos('ventas.txt')\n",
    "aplicar_descuento(data)"
   ]
  },
  {
   "cell_type": "markdown",
   "id": "b68ca6e8-5a9d-4fc8-9967-6b5018dffa15",
   "metadata": {},
   "source": [
    "## Subtarea 6: Filtrar productos con filter\n",
    "### Tema: Función filter()\n",
    "\n",
    "Filtrar productos cuyo nombre contenga la palabra \"Teclado\" utilizando filter()."
   ]
  },
  {
   "cell_type": "code",
   "execution_count": 69,
   "id": "afcfa908-a7b3-443c-8ef2-4cd6d97f0f27",
   "metadata": {},
   "outputs": [
    {
     "data": {
      "text/plain": [
       "[('Teclado', (' Electrónica', 50.0, 3)),\n",
       " ('Teclado inalámbrico', (' Electrónica', 60.0, 3))]"
      ]
     },
     "execution_count": 69,
     "metadata": {},
     "output_type": "execute_result"
    }
   ],
   "source": [
    "def productos_teclado(datos): \n",
    "    return list(filter(lambda x: 'Teclado' in x[0], datos.items()))\n",
    "\n",
    "data = leer_datos('ventas.txt')\n",
    "productos_teclado(data)"
   ]
  },
  {
   "cell_type": "markdown",
   "id": "7b41387b-a8bc-4604-95c6-51574e23139a",
   "metadata": {},
   "source": [
    "## Subtarea 7: Calcular el total de ventas con reduce\n",
    "### Tema: Uso de reduce()\n",
    "\n",
    "Calcular el total de ventas de todos los productos utilizando reduce(). La función reduce() permite acumular los resultados de manera eficiente, multiplicando el precio por la cantidad de cada producto."
   ]
  },
  {
   "cell_type": "code",
   "execution_count": 83,
   "id": "682ca337-848f-4fe2-9305-306df03401d1",
   "metadata": {},
   "outputs": [
    {
     "data": {
      "text/plain": [
       "19145.0"
      ]
     },
     "execution_count": 83,
     "metadata": {},
     "output_type": "execute_result"
    }
   ],
   "source": [
    "# {producto: (categoria,precio,unidades)}\n",
    "from functools import reduce\n",
    "def total_ventas(datos):\n",
    "    return reduce(lambda x,y: x+y[1][1] * y[1][2], datos.items(), 0)\n",
    "total_ventas(leer_datos('ventas.txt'))"
   ]
  },
  {
   "cell_type": "markdown",
   "id": "e0c59b35-a040-45e5-a0c6-ef75f4504939",
   "metadata": {},
   "source": [
    "## Subtarea 8: Medir el tiempo de ejecución con un decorador\n",
    "### Tema: Decoradores\n",
    "\n",
    "Medir el tiempo de ejecución de cada función utilizando un decorador. Crea un decorador que calcule y muestre el tiempo que tarda en ejecutarse cada función de procesamiento."
   ]
  },
  {
   "cell_type": "code",
   "execution_count": null,
   "id": "e4d29545-5309-4c90-906f-b4a8cd8e3992",
   "metadata": {},
   "outputs": [],
   "source": []
  },
  {
   "cell_type": "markdown",
   "id": "bccfa3e2-3ab5-4a75-8408-3714cad6a4dc",
   "metadata": {},
   "source": [
    "## Subtarea 9: Ordenar productos por ingresos usando yield\n",
    "### Tema: Generadores y yield\n",
    "\n",
    "Generar productos por ingresos, ordenando de mayor a menor por el total de ingresos (precio * cantidad). Utiliza un generador (yield) para devolver los productos en orden."
   ]
  },
  {
   "cell_type": "code",
   "execution_count": null,
   "id": "99877fe0-d789-4155-9dd4-5ee48488da2f",
   "metadata": {},
   "outputs": [],
   "source": []
  },
  {
   "cell_type": "markdown",
   "id": "e6ca02a0-b4b8-4d5e-a6c1-57e90bf43950",
   "metadata": {},
   "source": [
    "## Subtarea 10: Aplicar un descuento adicional con operadores ternarios\n",
    "### Tema: Operadores Ternarios\n",
    "\n",
    "Aplicar un descuento adicional del 5% a los productos cuyo total de ventas (precio * cantidad) supere los 2000. Utiliza operadores ternarios para determinar si el descuento debe aplicarse."
   ]
  },
  {
   "cell_type": "code",
   "execution_count": 87,
   "id": "72d2cca9-c97d-4b3d-b1ad-db4b52207301",
   "metadata": {},
   "outputs": [
    {
     "data": {
      "text/plain": [
       "{'Laptop': (' Electrónica', 800.0, 2),\n",
       " 'Silla': (' Muebles', 150.0, 5),\n",
       " 'Teclado': (' Electrónica', 50.0, 3),\n",
       " 'Mesa': (' Muebles', 200.0, 1),\n",
       " 'Auriculares': (' Electrónica', 120.0, 4),\n",
       " 'Cámara': (' Fotografía', 400.0, 2),\n",
       " 'Móvil': (' Electrónica', 600.0, 3),\n",
       " 'Sofá': (' Muebles', 1000.0, 1),\n",
       " 'Impresora': (' Electrónica', 250.0, 5),\n",
       " 'Lámpara': (' Muebles', 80.0, 7),\n",
       " 'Monitor': (' Electrónica', 300.0, 2),\n",
       " 'Estante': (' Muebles', 120.0, 4),\n",
       " 'Proyector': (' Electrónica', 450.0, 3),\n",
       " 'Reloj': (' Joyería', 200.0, 6),\n",
       " 'Pulsera': (' Joyería', 100.0, 8),\n",
       " 'Cargador': (' Electrónica', 30.0, 10),\n",
       " 'Altavoces': (' Electrónica', 150.0, 2),\n",
       " 'Cámara de seguridad': (' Electrónica', 120.0, 4),\n",
       " 'Bicicleta': (' Deportes', 350.0, 2),\n",
       " 'Casco': (' Deportes', 50.0, 6),\n",
       " 'Silla de oficina': (' Muebles', 200.0, 3),\n",
       " 'Gafas de sol': (' Joyería', 120.0, 5),\n",
       " 'Teclado inalámbrico': (' Electrónica', 60.0, 3),\n",
       " 'Microondas': (' Electrodomésticos', 120.0, 2),\n",
       " 'Tetera': (' Electrodomésticos', 35.0, 7),\n",
       " 'Aspiradora': (' Electrodomésticos', 180.0, 4),\n",
       " 'Secador de pelo': (' Electrodomésticos', 50.0, 5),\n",
       " 'Plancha': (' Electrodomésticos', 70.0, 3),\n",
       " 'Nevera': (' Electrodomésticos', 700.0, 1),\n",
       " 'Cafetera': (' Electrodomésticos', 100.0, 3)}"
      ]
     },
     "execution_count": 87,
     "metadata": {},
     "output_type": "execute_result"
    }
   ],
   "source": [
    "def aplicar_descuento(datos):\n",
    "    return {producto:(v1,v2 * 0.95 if v2*v3 > 2000 else v2,v3) for producto, (v1,v2,v3) in datos.items()}\n",
    "    #Diccionario por compresion con ternaria de por medio si se cumple la condicion\n",
    "aplicar_descuento(leer_datos('ventas.txt'))"
   ]
  },
  {
   "cell_type": "code",
   "execution_count": null,
   "id": "cfe6ff2e-bace-4e25-9584-99c1e6f016c2",
   "metadata": {},
   "outputs": [],
   "source": []
  },
  {
   "cell_type": "markdown",
   "id": "8a8f9478-b0f2-485e-aab8-072270e82c15",
   "metadata": {},
   "source": []
  }
 ],
 "metadata": {
  "kernelspec": {
   "display_name": "Python [conda env:base] *",
   "language": "python",
   "name": "conda-base-py"
  },
  "language_info": {
   "codemirror_mode": {
    "name": "ipython",
    "version": 3
   },
   "file_extension": ".py",
   "mimetype": "text/x-python",
   "name": "python",
   "nbconvert_exporter": "python",
   "pygments_lexer": "ipython3",
   "version": "3.12.7"
  }
 },
 "nbformat": 4,
 "nbformat_minor": 5
}
