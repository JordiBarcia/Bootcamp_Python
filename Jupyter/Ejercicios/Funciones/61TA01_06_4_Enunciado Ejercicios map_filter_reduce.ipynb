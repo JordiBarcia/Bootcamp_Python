{
 "cells": [
  {
   "cell_type": "markdown",
   "id": "4be7c707",
   "metadata": {},
   "source": [
    "### Ejercicio 2"
   ]
  },
  {
   "cell_type": "code",
   "execution_count": 3,
   "id": "482435fc",
   "metadata": {},
   "outputs": [],
   "source": [
    "data = [\n",
    " ('John', [45, 55, 60, 70]),\n",
    " ('Emily', [88, 76, 95, 80]),\n",
    " ('Sophia', [60, 65, 45, 70]),\n",
    " ('Michael', [80, 90, 92, 85])\n",
    "]"
   ]
  },
  {
   "cell_type": "markdown",
   "id": "b586894b",
   "metadata": {},
   "source": [
    "#### # Usar map para calcular el promedio de calificaciones mayores o iguales a 50 para cada persona.\n"
   ]
  },
  {
   "cell_type": "code",
   "execution_count": 9,
   "id": "4fd4d39f",
   "metadata": {},
   "outputs": [
    {
     "name": "stdout",
     "output_type": "stream",
     "text": [
      "[61.666666666666664, 84.75, 65.0, 86.75]\n"
     ]
    }
   ],
   "source": [
    "def promedio(lista):\n",
    "    lista_2 = [score for score in lista if score >= 50] ## Sintaxis de lista por compresion donde busca los valores >50\n",
    "    return sum(lista_2) / len(lista_2) ##calculo de promedio, teniendo en cuenta los num >50\n",
    "print(list(map(promedio,[scores for name, scores in data]))) ##Construyes una lista por comprension para coger solo la segunda parte de la tupla"
   ]
  },
  {
   "cell_type": "code",
   "execution_count": 76,
   "id": "f1a98cde",
   "metadata": {},
   "outputs": [
    {
     "data": {
      "text/plain": [
       "[('John', 61.666666666666664),\n",
       " ('Emily', 84.75),\n",
       " ('Sophia', 65.0),\n",
       " ('Michael', 86.75)]"
      ]
     },
     "execution_count": 76,
     "metadata": {},
     "output_type": "execute_result"
    }
   ],
   "source": []
  },
  {
   "cell_type": "code",
   "execution_count": null,
   "id": "5ee3d561",
   "metadata": {},
   "outputs": [],
   "source": []
  },
  {
   "cell_type": "code",
   "execution_count": null,
   "id": "a4520fa7",
   "metadata": {},
   "outputs": [
    {
     "data": {
      "text/plain": [
       "[('John', 61.666666666666664),\n",
       " ('Emily', 84.75),\n",
       " ('Sophia', 65.0),\n",
       " ('Michael', 86.75)]"
      ]
     },
     "execution_count": 77,
     "metadata": {},
     "output_type": "execute_result"
    }
   ],
   "source": []
  },
  {
   "cell_type": "markdown",
   "id": "5b994f4d",
   "metadata": {},
   "source": [
    "#### # Convertir a lista y ordenar por el promedio de calificaciones\n"
   ]
  },
  {
   "cell_type": "code",
   "execution_count": null,
   "id": "ebe8121a",
   "metadata": {},
   "outputs": [
    {
     "data": {
      "text/plain": [
       "[('Michael', 86.75),\n",
       " ('Emily', 84.75),\n",
       " ('Sophia', 65.0),\n",
       " ('John', 61.666666666666664)]"
      ]
     },
     "execution_count": 81,
     "metadata": {},
     "output_type": "execute_result"
    }
   ],
   "source": [
    "data = [\n",
    " ('John', [45, 55, 60, 70]),\n",
    " ('Emily', [88, 76, 95, 80]),\n",
    " ('Sophia', [60, 65, 45, 70]),\n",
    " ('Michael', [80, 90, 92, 85])\n",
    "]\n"
   ]
  },
  {
   "cell_type": "markdown",
   "id": "e11e7176",
   "metadata": {},
   "source": [
    "#### # Filtrar las personas con el promedio más alto\n"
   ]
  },
  {
   "cell_type": "code",
   "execution_count": null,
   "id": "c710b7d2",
   "metadata": {},
   "outputs": [],
   "source": []
  },
  {
   "cell_type": "code",
   "execution_count": null,
   "id": "5e3cb597",
   "metadata": {},
   "outputs": [
    {
     "name": "stdout",
     "output_type": "stream",
     "text": [
      "[('Michael', 86.75)]\n"
     ]
    }
   ],
   "source": [
    "data = [\n",
    "    ('John', [45, 55, 60, 70]),\n",
    "    ('Emily', [88, 76, 95, 80]),\n",
    "    ('Sophia', [60, 65, 45, 70]),\n",
    "    ('Michael', [80, 90, 92, 85])\n",
    "]\n",
    "\n",
    "\n"
   ]
  },
  {
   "cell_type": "code",
   "execution_count": null,
   "id": "c11edde8",
   "metadata": {},
   "outputs": [
    {
     "data": {
      "text/plain": [
       "[('Michael', 86.75)]"
      ]
     },
     "execution_count": 69,
     "metadata": {},
     "output_type": "execute_result"
    }
   ],
   "source": [
    "from functools import reduce\n",
    "data = [\n",
    " ('John', [45, 55, 60, 70]),\n",
    " ('Emily', [88, 76, 95, 80]),\n",
    " ('Sophia', [60, 65, 45, 70]),\n",
    " ('Michael', [80, 90, 92, 85])\n",
    "]\n",
    "\n"
   ]
  },
  {
   "cell_type": "markdown",
   "id": "3ba4deae",
   "metadata": {},
   "source": [
    "#### # Extraer solo los nombres de las personas con el promedio más alto\n"
   ]
  },
  {
   "cell_type": "code",
   "execution_count": null,
   "id": "4868222c",
   "metadata": {},
   "outputs": [],
   "source": []
  },
  {
   "cell_type": "code",
   "execution_count": null,
   "id": "f665805c",
   "metadata": {},
   "outputs": [
    {
     "name": "stdout",
     "output_type": "stream",
     "text": [
      "['Michael']\n"
     ]
    }
   ],
   "source": [
    "data = [\n",
    "    ('John', [45, 55, 60, 70]),\n",
    "    ('Emily', [88, 76, 95, 80]),\n",
    "    ('Sophia', [60, 65, 45, 70]),\n",
    "    ('Michael', [80, 90, 92, 85])\n",
    "]\n",
    "\n",
    "\n"
   ]
  },
  {
   "cell_type": "code",
   "execution_count": null,
   "id": "ce0ebbdd",
   "metadata": {},
   "outputs": [
    {
     "data": {
      "text/plain": [
       "['Michael']"
      ]
     },
     "execution_count": 74,
     "metadata": {},
     "output_type": "execute_result"
    }
   ],
   "source": [
    "from functools import reduce\n",
    "data = [\n",
    " ('John', [45, 55, 60, 70]),\n",
    " ('Emily', [88, 76, 95, 80]),\n",
    " ('Sophia', [60, 65, 45, 70]),\n",
    " ('Michael', [80, 90, 92, 85])\n",
    "]\n"
   ]
  },
  {
   "cell_type": "markdown",
   "id": "42cac013",
   "metadata": {},
   "source": [
    "### Completo"
   ]
  },
  {
   "cell_type": "code",
   "execution_count": null,
   "id": "802421e4",
   "metadata": {},
   "outputs": [
    {
     "name": "stdout",
     "output_type": "stream",
     "text": [
      "Persona(s) con el promedio más alto de calificaciones mayores o iguales a 50: ['Michael']\n"
     ]
    }
   ],
   "source": []
  },
  {
   "cell_type": "code",
   "execution_count": null,
   "id": "15beac55",
   "metadata": {},
   "outputs": [],
   "source": []
  }
 ],
 "metadata": {
  "kernelspec": {
   "display_name": "Python [conda env:base] *",
   "language": "python",
   "name": "conda-base-py"
  },
  "language_info": {
   "codemirror_mode": {
    "name": "ipython",
    "version": 3
   },
   "file_extension": ".py",
   "mimetype": "text/x-python",
   "name": "python",
   "nbconvert_exporter": "python",
   "pygments_lexer": "ipython3",
   "version": "3.12.7"
  }
 },
 "nbformat": 4,
 "nbformat_minor": 5
}
