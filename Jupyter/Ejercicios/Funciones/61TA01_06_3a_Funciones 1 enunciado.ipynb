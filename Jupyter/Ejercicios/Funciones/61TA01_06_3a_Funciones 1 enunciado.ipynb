{
 "cells": [
  {
   "cell_type": "markdown",
   "id": "74595db3-fa3a-48c3-990b-0a491375a0da",
   "metadata": {},
   "source": [
    "## 61TA05_01 Modularidad_ Funciones"
   ]
  },
  {
   "cell_type": "markdown",
   "id": "c0387e24-483c-4b1b-bbe6-578fceffce70",
   "metadata": {},
   "source": [
    "### Nivel básico"
   ]
  },
  {
   "cell_type": "markdown",
   "id": "e9336d0c-0c36-48b6-a98c-9ae0bc70c48b",
   "metadata": {},
   "source": [
    "Enunciado:\n",
    "Escribe una función llamada suma_simple que reciba dos números y devuelva su suma. Asegúrate de que la función maneje correctamente números negativos."
   ]
  },
  {
   "cell_type": "code",
   "execution_count": 5,
   "id": "50ce0bc9-d016-4f79-ba7a-f0f67b4a6445",
   "metadata": {},
   "outputs": [
    {
     "data": {
      "text/plain": [
       "-1"
      ]
     },
     "execution_count": 5,
     "metadata": {},
     "output_type": "execute_result"
    }
   ],
   "source": [
    "def suma_simple(a,b):\n",
    "    return a + b\n",
    "suma_simple(-3,2)"
   ]
  },
  {
   "cell_type": "code",
   "execution_count": 31,
   "id": "bbe6b13f-667a-44ca-ac77-f73df5e54736",
   "metadata": {},
   "outputs": [
    {
     "data": {
      "text/plain": [
       "-1"
      ]
     },
     "execution_count": 31,
     "metadata": {},
     "output_type": "execute_result"
    }
   ],
   "source": [
    "def suma_simple(a: float, b: float) -> float:\n",
    "    if not isinstance(a,(int, float)) or not isinstance(b, (int, float)):\n",
    "        raise TypeError('Ambos argumentos no son validos')\n",
    "    return a + b\n",
    "\n",
    "suma_simple(-3,2)\n",
    "\n",
    "##Metodo senior"
   ]
  },
  {
   "cell_type": "code",
   "execution_count": null,
   "id": "7278fb58-4d15-4f8d-b838-b91879345ce8",
   "metadata": {},
   "outputs": [],
   "source": []
  },
  {
   "cell_type": "code",
   "execution_count": null,
   "id": "b16563cb-910f-47ec-ae42-6db579f8eadc",
   "metadata": {},
   "outputs": [],
   "source": []
  },
  {
   "cell_type": "markdown",
   "id": "3cf10ca3-31e9-43d2-8a04-25076a6349b3",
   "metadata": {},
   "source": [
    "### Nivel Intermedio\n",
    "Enunciado:\n",
    "Crea una función llamada filtrar_pares que reciba una lista de números y devuelva una nueva lista solo con los números pares."
   ]
  },
  {
   "cell_type": "code",
   "execution_count": 15,
   "id": "2b727eb8-726d-43ac-a3a7-4c60e73f302b",
   "metadata": {},
   "outputs": [
    {
     "data": {
      "text/plain": [
       "[2, 4, 6, 8, 10]"
      ]
     },
     "execution_count": 15,
     "metadata": {},
     "output_type": "execute_result"
    }
   ],
   "source": [
    "def filtrar_pares(lista):\n",
    "    nueva_lista = []\n",
    "    for i in lista:\n",
    "        if i % 2 == 0:\n",
    "            nueva_lista.append(i)\n",
    "    return nueva_lista\n",
    "filtrar_pares([1,2,3,4,5,6,7,8,9,10])"
   ]
  },
  {
   "cell_type": "code",
   "execution_count": 35,
   "id": "5a3a43c0-aabb-4c40-8563-cf3341174c44",
   "metadata": {},
   "outputs": [
    {
     "data": {
      "text/plain": [
       "[2, 4, 6, 8, 10]"
      ]
     },
     "execution_count": 35,
     "metadata": {},
     "output_type": "execute_result"
    }
   ],
   "source": [
    "def filtrar_pares(lista):\n",
    "    return [num for num in lista if num % 2 == 0]\n",
    "filtrar_pares([1,2,3,4,5,6,7,8,9,10])"
   ]
  },
  {
   "cell_type": "code",
   "execution_count": null,
   "id": "33a22822-4f44-4344-984a-4ee107257662",
   "metadata": {},
   "outputs": [],
   "source": []
  },
  {
   "cell_type": "markdown",
   "id": "6c035bb7-dfa2-40ef-943b-0e9226ce7095",
   "metadata": {},
   "source": [
    "### Nivel Avanzado\n",
    "Enunciado:\n",
    "Crea una función llamada factorial que calcule el factorial de un número usando recursividad. El factorial de n se define como n * (n-1) * (n-2) ... * 1."
   ]
  },
  {
   "cell_type": "code",
   "execution_count": 21,
   "id": "9d56200a-df06-47b6-91f4-e5a3762a1fd1",
   "metadata": {},
   "outputs": [
    {
     "data": {
      "text/plain": [
       "120"
      ]
     },
     "execution_count": 21,
     "metadata": {},
     "output_type": "execute_result"
    }
   ],
   "source": [
    "def factorial(num):\n",
    "    result = 1\n",
    "    i = num\n",
    "    while i > 0:\n",
    "        result = result * i\n",
    "        i -= 1\n",
    "    return result\n",
    "factorial(5)"
   ]
  },
  {
   "cell_type": "code",
   "execution_count": 23,
   "id": "5c4e5dcd-df40-4c42-bd83-f8c25fdc2117",
   "metadata": {},
   "outputs": [
    {
     "data": {
      "text/plain": [
       "120"
      ]
     },
     "execution_count": 23,
     "metadata": {},
     "output_type": "execute_result"
    }
   ],
   "source": [
    "def factorial(num):\n",
    "    if num == 1:\n",
    "        return num\n",
    "    else:\n",
    "        return num * factorial(num-1)\n",
    "factorial(5)\n"
   ]
  },
  {
   "cell_type": "code",
   "execution_count": 39,
   "id": "357a212e-64e8-4ea5-8329-8336938e2d30",
   "metadata": {},
   "outputs": [
    {
     "ename": "SyntaxError",
     "evalue": "invalid syntax (92083941.py, line 2)",
     "output_type": "error",
     "traceback": [
      "\u001b[1;36m  Cell \u001b[1;32mIn[39], line 2\u001b[1;36m\u001b[0m\n\u001b[1;33m    return num if num == 1 else: return num*factorial(num-1)\u001b[0m\n\u001b[1;37m                               ^\u001b[0m\n\u001b[1;31mSyntaxError\u001b[0m\u001b[1;31m:\u001b[0m invalid syntax\n"
     ]
    }
   ],
   "source": [
    "def factorial(num):\n",
    "    return num if num == 1 else return num*factorial(num-1)\n",
    "factorial(5)"
   ]
  },
  {
   "cell_type": "code",
   "execution_count": 30,
   "id": "417967a4-04a9-4511-ad50-0732deb4949b",
   "metadata": {},
   "outputs": [
    {
     "name": "stdout",
     "output_type": "stream",
     "text": [
      "120\n"
     ]
    }
   ],
   "source": [
    "\n"
   ]
  }
 ],
 "metadata": {
  "kernelspec": {
   "display_name": "Python [conda env:base] *",
   "language": "python",
   "name": "conda-base-py"
  },
  "language_info": {
   "codemirror_mode": {
    "name": "ipython",
    "version": 3
   },
   "file_extension": ".py",
   "mimetype": "text/x-python",
   "name": "python",
   "nbconvert_exporter": "python",
   "pygments_lexer": "ipython3",
   "version": "3.12.7"
  }
 },
 "nbformat": 4,
 "nbformat_minor": 5
}
