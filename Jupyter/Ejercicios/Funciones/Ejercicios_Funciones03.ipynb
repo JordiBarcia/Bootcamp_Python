{
 "cells": [
  {
   "cell_type": "code",
   "execution_count": 85,
   "id": "28c26169-16c4-4574-a383-cdc133a8d112",
   "metadata": {},
   "outputs": [
    {
     "data": {
      "text/plain": [
       "('la', 2)"
      ]
     },
     "execution_count": 85,
     "metadata": {},
     "output_type": "execute_result"
    }
   ],
   "source": [
    "## Ejercicio 11\n",
    "def split_de_palabras(chain):\n",
    "    dicc = {}\n",
    "    nueva_lista = chain.split(' ')\n",
    "    for word in nueva_lista: ## Recorremos la lista y la vamos añadiendo a un nuevo diccionario\n",
    "        dicc[word] = nueva_lista.count(word)\n",
    "    return dicc\n",
    "\n",
    "def palabra_mas_repetida(dicc):\n",
    "    max_value = max(dicc.values())\n",
    "    clave = None\n",
    "    for k,v in dicc.items():\n",
    "        if v == max_value:\n",
    "            clave = k\n",
    "    nueva_tuple = (clave,max_value)\n",
    "    return nueva_tuple\n",
    "        \n",
    "            \n",
    "\n",
    "frase = 'En un lugar de la mancha la'\n",
    "palabra_mas_repetida(split_de_palabras(frase))"
   ]
  },
  {
   "cell_type": "code",
   "execution_count": 15,
   "id": "1ddef2c9-3ce2-4c11-b35d-42c464c3607b",
   "metadata": {},
   "outputs": [
    {
     "name": "stdout",
     "output_type": "stream",
     "text": [
      "['10100']\n",
      "10100\n"
     ]
    },
    {
     "data": {
      "text/plain": [
       "10100"
      ]
     },
     "execution_count": 15,
     "metadata": {},
     "output_type": "execute_result"
    }
   ],
   "source": [
    "##Ejercicio 10\n",
    "def decimal_binario(num):\n",
    "    binario = []\n",
    "    result = num\n",
    "    for i in range(num):\n",
    "        binario.append(int(result % 2))\n",
    "        result = result / 2\n",
    "    print(binario)\n",
    "\n",
    "##decimal_binario(5)\n",
    "\n",
    "def binario_decimal(num):\n",
    "    nueva_lista = str(num).split()\n",
    "    nueva_lista.reverse()\n",
    "    print(nueva_lista)\n",
    "    decimal = 0\n",
    "    for i in range(len(nueva_lista)):\n",
    "        decimal = decimal + (2**i) * (int(nueva_lista[i]))\n",
    "        print(decimal)\n",
    "    return decimal\n",
    "\n",
    "binario_decimal(10100)"
   ]
  },
  {
   "cell_type": "code",
   "execution_count": null,
   "id": "344b45f3-8f76-4c41-8020-1f814a799679",
   "metadata": {},
   "outputs": [],
   "source": []
  }
 ],
 "metadata": {
  "kernelspec": {
   "display_name": "Python [conda env:base] *",
   "language": "python",
   "name": "conda-base-py"
  },
  "language_info": {
   "codemirror_mode": {
    "name": "ipython",
    "version": 3
   },
   "file_extension": ".py",
   "mimetype": "text/x-python",
   "name": "python",
   "nbconvert_exporter": "python",
   "pygments_lexer": "ipython3",
   "version": "3.12.7"
  }
 },
 "nbformat": 4,
 "nbformat_minor": 5
}
