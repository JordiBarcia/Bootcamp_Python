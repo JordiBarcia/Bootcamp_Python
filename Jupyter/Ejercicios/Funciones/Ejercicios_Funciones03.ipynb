{
 "cells": [
  {
   "cell_type": "code",
   "execution_count": 85,
   "id": "28c26169-16c4-4574-a383-cdc133a8d112",
   "metadata": {},
   "outputs": [
    {
     "data": {
      "text/plain": [
       "('la', 2)"
      ]
     },
     "execution_count": 85,
     "metadata": {},
     "output_type": "execute_result"
    }
   ],
   "source": [
    "## Ejercicio 11\n",
    "def split_de_palabras(chain):\n",
    "    dicc = {}\n",
    "    nueva_lista = chain.split(' ')\n",
    "    for word in nueva_lista: ## Recorremos la lista y la vamos añadiendo a un nuevo diccionario\n",
    "        dicc[word] = nueva_lista.count(word)\n",
    "    return dicc\n",
    "\n",
    "def palabra_mas_repetida(dicc):\n",
    "    max_value = max(dicc.values())\n",
    "    clave = None\n",
    "    for k,v in dicc.items():\n",
    "        if v == max_value:\n",
    "            clave = k\n",
    "    nueva_tuple = (clave,max_value)\n",
    "    return nueva_tuple\n",
    "        \n",
    "            \n",
    "\n",
    "frase = 'En un lugar de la mancha la'\n",
    "palabra_mas_repetida(split_de_palabras(frase))"
   ]
  },
  {
   "cell_type": "code",
   "execution_count": 13,
   "id": "1ddef2c9-3ce2-4c11-b35d-42c464c3607b",
   "metadata": {},
   "outputs": [
    {
     "name": "stdout",
     "output_type": "stream",
     "text": [
      "[1, 0, 1, 0, 0]\n"
     ]
    },
    {
     "data": {
      "text/plain": [
       "5"
      ]
     },
     "execution_count": 13,
     "metadata": {},
     "output_type": "execute_result"
    }
   ],
   "source": [
    "##Ejercicio 10\n",
    "def decimal_binario(num):\n",
    "    binario = []\n",
    "    result = num\n",
    "    for i in range(num):\n",
    "        binario.append(int(result % 2))\n",
    "        result = result / 2\n",
    "    print(binario)\n",
    "\n",
    "decimal_binario(5)\n",
    "\n",
    "def binario_decimal(num):\n",
    "    cadena = str(num)\n",
    "    lista1 = [num2 for num2 in cadena] ## Lista por compresion para pasar el str a una lista elemento por elemento\n",
    "    decimal = 0\n",
    "    for i in range(len(lista1)):\n",
    "        decimal = decimal + (2**i) * (int(lista1[i]))\n",
    "    return decimal\n",
    "\n",
    "binario_decimal(10100)"
   ]
  },
  {
   "cell_type": "code",
   "execution_count": 41,
   "id": "344b45f3-8f76-4c41-8020-1f814a799679",
   "metadata": {},
   "outputs": [
    {
     "data": {
      "text/plain": [
       "2"
      ]
     },
     "execution_count": 41,
     "metadata": {},
     "output_type": "execute_result"
    }
   ],
   "source": [
    "##Ejercicio 9\n",
    "def divisor(a,b):\n",
    "    r = None\n",
    "    if a > b:\n",
    "        while r != 0:\n",
    "            r = a % b\n",
    "            if r != 0:\n",
    "                b = r\n",
    "        return b\n",
    "    else: \n",
    "        while r != 0:\n",
    "            r = b % a\n",
    "            if r != 0:\n",
    "                a = r\n",
    "        return a\n",
    "divisor(11,46)\n",
    "\n",
    "## Ta mal"
   ]
  },
  {
   "cell_type": "code",
   "execution_count": null,
   "id": "7bef2287-be18-4f74-98e0-50d14a024d08",
   "metadata": {},
   "outputs": [],
   "source": []
  }
 ],
 "metadata": {
  "kernelspec": {
   "display_name": "Python [conda env:base] *",
   "language": "python",
   "name": "conda-base-py"
  },
  "language_info": {
   "codemirror_mode": {
    "name": "ipython",
    "version": 3
   },
   "file_extension": ".py",
   "mimetype": "text/x-python",
   "name": "python",
   "nbconvert_exporter": "python",
   "pygments_lexer": "ipython3",
   "version": "3.12.7"
  }
 },
 "nbformat": 4,
 "nbformat_minor": 5
}
