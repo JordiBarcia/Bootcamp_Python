{
 "cells": [
  {
   "cell_type": "code",
   "execution_count": 37,
   "id": "e9bdf405-c662-43ab-be4f-37ceb1b1c2dd",
   "metadata": {},
   "outputs": [
    {
     "name": "stdin",
     "output_type": "stream",
     "text": [
      "Dame una palabra:  Jordi\n"
     ]
    },
    {
     "name": "stdout",
     "output_type": "stream",
     "text": [
      "JORDI\n",
      "JORDI\n",
      "JORDI\n",
      "JORDI\n",
      "JORDI\n",
      "JORDI\n",
      "JORDI\n",
      "JORDI\n",
      "JORDI\n",
      "JORDI\n"
     ]
    }
   ],
   "source": [
    "## EX 1\n",
    "palabra = input(\"Dame una palabra: \").upper()\n",
    "for _ in range(10):\n",
    "    print(palabra)\n"
   ]
  },
  {
   "cell_type": "code",
   "execution_count": 13,
   "id": "684f362a-fa8e-40a0-9ab3-0dbc35972869",
   "metadata": {},
   "outputs": [
    {
     "name": "stdin",
     "output_type": "stream",
     "text": [
      "Que edad tienes?  3\n"
     ]
    },
    {
     "name": "stdout",
     "output_type": "stream",
     "text": [
      "1\n",
      "2\n",
      "3\n"
     ]
    }
   ],
   "source": [
    "edad = int(input('Que edad tienes? '))\n",
    "aux = 0\n",
    "while aux != edad:\n",
    "    aux += 1\n",
    "    print(aux)"
   ]
  },
  {
   "cell_type": "code",
   "execution_count": 23,
   "id": "e93403a4-fdb8-4bff-bf38-32a0c6e9f22e",
   "metadata": {},
   "outputs": [
    {
     "name": "stdin",
     "output_type": "stream",
     "text": [
      "Dame un numero entero:  10\n"
     ]
    },
    {
     "name": "stdout",
     "output_type": "stream",
     "text": [
      "[2, 4, 6, 8]\n"
     ]
    }
   ],
   "source": [
    "numero = int(input('Dame un numero entero: '))\n",
    "pares = []\n",
    "for i in range(1,numero):\n",
    "    if i % 2 == 0:\n",
    "        pares.append(i)\n",
    "print(pares)\n"
   ]
  },
  {
   "cell_type": "code",
   "execution_count": 35,
   "id": "4c124b16-8361-43df-bf53-18a0c15209d9",
   "metadata": {},
   "outputs": [
    {
     "name": "stdin",
     "output_type": "stream",
     "text": [
      "Dame un numero entero:  10\n"
     ]
    },
    {
     "name": "stdout",
     "output_type": "stream",
     "text": [
      "[10, 9, 8, 7, 6, 5, 4, 3, 2, 1, 0]\n"
     ]
    }
   ],
   "source": [
    "numero = abs(int(input('Dame un numero entero: ')))\n",
    "cuenta_atras = []\n",
    "aux = numero\n",
    "for i in range(0,numero+1):\n",
    "    cuenta_atras.append(aux-i)\n",
    "print(cuenta_atras)"
   ]
  },
  {
   "cell_type": "code",
   "execution_count": 47,
   "id": "c8badfe8-f6db-40ba-8543-7d344a129b33",
   "metadata": {},
   "outputs": [
    {
     "name": "stdin",
     "output_type": "stream",
     "text": [
      "Dime la cantidad a invertir:  1500\n",
      "Interes anual:  0.5\n",
      "Durante cuantos años:  2\n"
     ]
    },
    {
     "name": "stdout",
     "output_type": "stream",
     "text": [
      "Año 0, tu capital se ha incrementado hasta 2250.0\n",
      "Año 1, tu capital se ha incrementado hasta 3375.0\n"
     ]
    }
   ],
   "source": [
    "cantidad = abs(float(input('Dime la cantidad a invertir: ')))\n",
    "intere_anual = abs(float(input('Interes anual: ')))\n",
    "anos = abs(int(input('Durante cuantos años: ')))\n",
    "for i in range(0, anos):\n",
    "    cantidad += cantidad * intere_anual\n",
    "    print(f'Año {i}, tu capital se ha incrementado hasta {cantidad}')\n"
   ]
  },
  {
   "cell_type": "code",
   "execution_count": 53,
   "id": "8b02f92a-005b-4542-a1b5-5b148001ec82",
   "metadata": {},
   "outputs": [
    {
     "name": "stdin",
     "output_type": "stream",
     "text": [
      "Dime la altura un numero entero:  5\n"
     ]
    },
    {
     "name": "stdout",
     "output_type": "stream",
     "text": [
      "*\n",
      "**\n",
      "***\n",
      "****\n",
      "*****\n"
     ]
    }
   ],
   "source": [
    "altura = abs(int(input('Dime la altura un numero entero: ')))\n",
    "for i in range(1, altura+1):\n",
    "    print('*'*i)"
   ]
  },
  {
   "cell_type": "code",
   "execution_count": 59,
   "id": "e687b44b-39bb-4b14-b971-7f1a88bb9dfc",
   "metadata": {},
   "outputs": [
    {
     "name": "stdout",
     "output_type": "stream",
     "text": [
      "1 x 1= 1\n",
      "1 x 2= 2\n",
      "1 x 3= 3\n",
      "1 x 4= 4\n",
      "1 x 5= 5\n",
      "1 x 6= 6\n",
      "1 x 7= 7\n",
      "1 x 8= 8\n",
      "1 x 9= 9\n",
      "1 x 10= 10\n",
      "2 x 1= 2\n",
      "2 x 2= 4\n",
      "2 x 3= 6\n",
      "2 x 4= 8\n",
      "2 x 5= 10\n",
      "2 x 6= 12\n",
      "2 x 7= 14\n",
      "2 x 8= 16\n",
      "2 x 9= 18\n",
      "2 x 10= 20\n",
      "3 x 1= 3\n",
      "3 x 2= 6\n",
      "3 x 3= 9\n",
      "3 x 4= 12\n",
      "3 x 5= 15\n",
      "3 x 6= 18\n",
      "3 x 7= 21\n",
      "3 x 8= 24\n",
      "3 x 9= 27\n",
      "3 x 10= 30\n",
      "4 x 1= 4\n",
      "4 x 2= 8\n",
      "4 x 3= 12\n",
      "4 x 4= 16\n",
      "4 x 5= 20\n",
      "4 x 6= 24\n",
      "4 x 7= 28\n",
      "4 x 8= 32\n",
      "4 x 9= 36\n",
      "4 x 10= 40\n",
      "5 x 1= 5\n",
      "5 x 2= 10\n",
      "5 x 3= 15\n",
      "5 x 4= 20\n",
      "5 x 5= 25\n",
      "5 x 6= 30\n",
      "5 x 7= 35\n",
      "5 x 8= 40\n",
      "5 x 9= 45\n",
      "5 x 10= 50\n",
      "6 x 1= 6\n",
      "6 x 2= 12\n",
      "6 x 3= 18\n",
      "6 x 4= 24\n",
      "6 x 5= 30\n",
      "6 x 6= 36\n",
      "6 x 7= 42\n",
      "6 x 8= 48\n",
      "6 x 9= 54\n",
      "6 x 10= 60\n",
      "7 x 1= 7\n",
      "7 x 2= 14\n",
      "7 x 3= 21\n",
      "7 x 4= 28\n",
      "7 x 5= 35\n",
      "7 x 6= 42\n",
      "7 x 7= 49\n",
      "7 x 8= 56\n",
      "7 x 9= 63\n",
      "7 x 10= 70\n",
      "8 x 1= 8\n",
      "8 x 2= 16\n",
      "8 x 3= 24\n",
      "8 x 4= 32\n",
      "8 x 5= 40\n",
      "8 x 6= 48\n",
      "8 x 7= 56\n",
      "8 x 8= 64\n",
      "8 x 9= 72\n",
      "8 x 10= 80\n",
      "9 x 1= 9\n",
      "9 x 2= 18\n",
      "9 x 3= 27\n",
      "9 x 4= 36\n",
      "9 x 5= 45\n",
      "9 x 6= 54\n",
      "9 x 7= 63\n",
      "9 x 8= 72\n",
      "9 x 9= 81\n",
      "9 x 10= 90\n",
      "10 x 1= 10\n",
      "10 x 2= 20\n",
      "10 x 3= 30\n",
      "10 x 4= 40\n",
      "10 x 5= 50\n",
      "10 x 6= 60\n",
      "10 x 7= 70\n",
      "10 x 8= 80\n",
      "10 x 9= 90\n",
      "10 x 10= 100\n"
     ]
    }
   ],
   "source": [
    "for i in range(1,11):\n",
    "    for j in range(1,11):\n",
    "        print(f'{i} x {j}= {i*j}')"
   ]
  },
  {
   "cell_type": "code",
   "execution_count": 31,
   "id": "1f02b95a-309d-4b7d-8c19-cee6970736c4",
   "metadata": {},
   "outputs": [
    {
     "name": "stdin",
     "output_type": "stream",
     "text": [
      "Dime un numero entero:  10\n"
     ]
    },
    {
     "name": "stdout",
     "output_type": "stream",
     "text": [
      "1 \n",
      "3 1 \n",
      "5 3 1 \n",
      "7 5 3 1 \n",
      "9 7 5 3 1 \n"
     ]
    }
   ],
   "source": [
    "numero = int(input('Dime un numero entero: '))\n",
    "for i in range(1, numero + 1, 2):\n",
    "    for j in range(i, 0, -2):\n",
    "        print(j, end=' ')\n",
    "    print()"
   ]
  },
  {
   "cell_type": "code",
   "execution_count": 79,
   "id": "8ca29ec6-0e70-4b61-b3a1-797dd47703ff",
   "metadata": {},
   "outputs": [
    {
     "name": "stdin",
     "output_type": "stream",
     "text": [
      "Escribe la contraseña:  12345m\n"
     ]
    },
    {
     "name": "stdout",
     "output_type": "stream",
     "text": [
      "Bienvenido\n"
     ]
    }
   ],
   "source": [
    "contr_guardad = '12345m'\n",
    "contr = ''\n",
    "while contr.lower() != contr_guardad.lower():\n",
    "    contr = input('Escribe la contraseña: ')\n",
    "print('Bienvenido')"
   ]
  },
  {
   "cell_type": "code",
   "execution_count": 87,
   "id": "f775fed7-1f29-4cc3-9ed0-f69d3dcc1da9",
   "metadata": {},
   "outputs": [
    {
     "name": "stdin",
     "output_type": "stream",
     "text": [
      "Dime un numero primo:  55\n"
     ]
    },
    {
     "name": "stdout",
     "output_type": "stream",
     "text": [
      "No es un numero primo\n"
     ]
    }
   ],
   "source": [
    "num = int(input('Dime un numero primo: '))\n",
    "for i in range(1, num):\n",
    "    if num % i == 0 and i != num and i != 1:\n",
    "        print('No es un numero primo')\n",
    "        break\n",
    "else: print('Es un numero primo')"
   ]
  },
  {
   "cell_type": "code",
   "execution_count": 35,
   "id": "4b709302-faf9-4a03-9ac8-3480230e5aa3",
   "metadata": {},
   "outputs": [
    {
     "name": "stdin",
     "output_type": "stream",
     "text": [
      "Dame una palabra:  jordi\n"
     ]
    },
    {
     "name": "stdout",
     "output_type": "stream",
     "text": [
      "i\n",
      "d\n",
      "r\n",
      "o\n",
      "j\n"
     ]
    }
   ],
   "source": [
    "word = input('Dame una palabra: ')\n",
    "for i in word[::-1]:\n",
    "    print(i)"
   ]
  },
  {
   "cell_type": "code",
   "execution_count": 25,
   "id": "5155871f-f173-4968-829a-7346f6c1b8ae",
   "metadata": {},
   "outputs": [
    {
     "name": "stdin",
     "output_type": "stream",
     "text": [
      "Dame una frase:  Hola buenos dias\n",
      "Que letra quieresbuscar:  a\n"
     ]
    },
    {
     "name": "stdout",
     "output_type": "stream",
     "text": [
      "El numero total de veces que aparece la letra es de: 2\n"
     ]
    }
   ],
   "source": [
    "frase = input('Dame una frase: ')\n",
    "letra = input('Que letra quieresbuscar: ')\n",
    "sumatorio = 0\n",
    "for i in range(len(frase)):\n",
    "    if letra == frase[i]:\n",
    "        sumatorio = sumatorio + 1\n",
    "print(f'El numero total de veces que aparece la letra es de: {sumatorio}')"
   ]
  },
  {
   "cell_type": "code",
   "execution_count": 27,
   "id": "1d59a150-4860-4dec-b8d0-9612fc8712ae",
   "metadata": {},
   "outputs": [
    {
     "name": "stdin",
     "output_type": "stream",
     "text": [
      "Dame una palabra:  hola\n"
     ]
    },
    {
     "name": "stdout",
     "output_type": "stream",
     "text": [
      "hola\n"
     ]
    },
    {
     "name": "stdin",
     "output_type": "stream",
     "text": [
      "Dame una palabra:  adios\n"
     ]
    },
    {
     "name": "stdout",
     "output_type": "stream",
     "text": [
      "adios\n"
     ]
    },
    {
     "name": "stdin",
     "output_type": "stream",
     "text": [
      "Dame una palabra:  salir\n"
     ]
    },
    {
     "name": "stdout",
     "output_type": "stream",
     "text": [
      "salir\n"
     ]
    }
   ],
   "source": [
    "while word != 'Salir'.lower():\n",
    "    word = input('Dame una palabra: ')\n",
    "    print(word)\n",
    "    "
   ]
  },
  {
   "cell_type": "code",
   "execution_count": null,
   "id": "d5818adb-15f7-44f3-ae38-2916dc6b750d",
   "metadata": {},
   "outputs": [],
   "source": []
  }
 ],
 "metadata": {
  "kernelspec": {
   "display_name": "Python [conda env:base] *",
   "language": "python",
   "name": "conda-base-py"
  },
  "language_info": {
   "codemirror_mode": {
    "name": "ipython",
    "version": 3
   },
   "file_extension": ".py",
   "mimetype": "text/x-python",
   "name": "python",
   "nbconvert_exporter": "python",
   "pygments_lexer": "ipython3",
   "version": "3.12.7"
  }
 },
 "nbformat": 4,
 "nbformat_minor": 5
}
