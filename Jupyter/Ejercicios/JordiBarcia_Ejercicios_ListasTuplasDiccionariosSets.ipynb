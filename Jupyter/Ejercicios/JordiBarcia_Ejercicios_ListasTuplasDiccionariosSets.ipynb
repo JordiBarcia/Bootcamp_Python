{
 "cells": [
  {
   "cell_type": "markdown",
   "id": "3cb441fe-23d1-41a5-86a2-798106fb009d",
   "metadata": {},
   "source": [
    "### LISTAS"
   ]
  },
  {
   "cell_type": "code",
   "execution_count": 3,
   "id": "d974ab2e-6398-4296-b938-5cfb5cc3076c",
   "metadata": {},
   "outputs": [
    {
     "data": {
      "text/plain": [
       "[5, 4, 3, 2, 1]"
      ]
     },
     "execution_count": 3,
     "metadata": {},
     "output_type": "execute_result"
    }
   ],
   "source": [
    "# Ex 1\n",
    "list_enteros = [1,2,3,4,5]\n",
    "list(reversed(list_enteros))"
   ]
  },
  {
   "cell_type": "code",
   "execution_count": 59,
   "id": "c8a9df1b-a6f9-4288-bf80-5711b13ad4c5",
   "metadata": {},
   "outputs": [
    {
     "data": {
      "text/plain": [
       "[1, 2, 3, 4, 5, 354, 11, 44, 51, 84, 22, 88]"
      ]
     },
     "execution_count": 59,
     "metadata": {},
     "output_type": "execute_result"
    }
   ],
   "source": [
    "list_enteros = [1,2,3,4,5,5,84,51,354,88,88,44,11,22]\n",
    "def Eliminar_elementos_repetidos(elementos):\n",
    "    return list(set(elementos))\n",
    "\n",
    "Eliminar_elementos_repetidos(list_enteros)"
   ]
  },
  {
   "cell_type": "code",
   "execution_count": 33,
   "id": "703be898-83e2-4c1b-9f6f-01acc4d9ce04",
   "metadata": {},
   "outputs": [
    {
     "data": {
      "text/plain": [
       "[5, 84, 51, 354, 88, 88, 44, 11, 22, 1, 2, 3, 4, 5]"
      ]
     },
     "execution_count": 33,
     "metadata": {},
     "output_type": "execute_result"
    }
   ],
   "source": [
    "list_enteros = [1,2,3,4,5,5,84,51,354,88,88,44,11,22]\n",
    "def Rotacion_elementos (elementos, rotaciones):\n",
    "    i = 0\n",
    "    while i < rotaciones:\n",
    "        aux = elementos.pop(0)\n",
    "        elementos.append(aux)\n",
    "        i = i + 1\n",
    "    return list(elementos)\n",
    "Rotacion_elementos(list_enteros, 5)\n",
    "\n",
    "## forma rapida: #return elementos[n:] + elementos[:n]# agafa n posicions del principi i les suma a n posicions del final\n",
    "\n",
    "    "
   ]
  },
  {
   "cell_type": "markdown",
   "id": "3ec45b67-7913-4e6d-bbd1-5025f3b69c62",
   "metadata": {},
   "source": [
    "### TUPLAS"
   ]
  },
  {
   "cell_type": "code",
   "execution_count": 65,
   "id": "cc0108b2-2921-4465-9778-80fdb135abb1",
   "metadata": {},
   "outputs": [
    {
     "data": {
      "text/plain": [
       "6"
      ]
     },
     "execution_count": 65,
     "metadata": {},
     "output_type": "execute_result"
    }
   ],
   "source": [
    "tupla = (1,2,3,4,5,2,5,2,1,4,2,2,2)\n",
    "def Count_Number_2(_tupla):\n",
    "    return tupla.count(2)\n",
    "Count_Number_2(tupla)"
   ]
  },
  {
   "cell_type": "code",
   "execution_count": 69,
   "id": "4e11fd6d-826d-4b64-8257-75b32b001fb9",
   "metadata": {},
   "outputs": [
    {
     "name": "stdout",
     "output_type": "stream",
     "text": [
      "Min: 1, Max: 5\n"
     ]
    }
   ],
   "source": [
    "tupla = (1,2,3,4,5,2,5,2,1,4,2,2,2)\n",
    "def Min_and_Max(tupla):\n",
    "    return print(f'Min: {min(tupla)}, Max: {max(tupla)}')\n",
    "Min_and_Max(tupla)"
   ]
  },
  {
   "cell_type": "code",
   "execution_count": 73,
   "id": "f6ec9f56-5bb1-42d9-bc9e-b35352b9472f",
   "metadata": {},
   "outputs": [
    {
     "data": {
      "text/plain": [
       "7"
      ]
     },
     "execution_count": 73,
     "metadata": {},
     "output_type": "execute_result"
    }
   ],
   "source": [
    "tupla = (1,2,3,4,5,6,7,8,9,10)\n",
    "indice = 0\n",
    "def Devolver_indx(_tupla, numero):\n",
    "    def Criterio(i):\n",
    "        return abs(tupla[i] - numero)\n",
    "    return min(range(len(tupla)), key=Criterio) \n",
    "Devolver_indx(tupla, 8)"
   ]
  },
  {
   "cell_type": "markdown",
   "id": "269dae19-8370-4c30-9cf8-0ae245c3b200",
   "metadata": {},
   "source": [
    "### DICCIONARIOS"
   ]
  },
  {
   "cell_type": "code",
   "execution_count": 81,
   "id": "4a5f706d-bbed-4ac9-94f7-1f14617ca21d",
   "metadata": {},
   "outputs": [
    {
     "name": "stdout",
     "output_type": "stream",
     "text": [
      "La clave esta en el diccionario\n"
     ]
    }
   ],
   "source": [
    "def Verificar_Clave(clave):\n",
    "    if clave in estudiante:\n",
    "        return print('La clave esta en el diccionario')\n",
    "\n",
    "estudiante = {\n",
    "    \"nombre\": \"Juan Pérez\",\n",
    "    \"edad\": 20,\n",
    "    \"carrera\": \"Ingeniería en Sistemas\",\n",
    "    \"materias\": [\"Matemáticas\", \"Programación\", \"Bases de Datos\"],\n",
    "    \"promedio\": 8.7,\n",
    "    \"activo\": True\n",
    "}\n",
    "\n",
    "Verificar_Clave('nombre')"
   ]
  },
  {
   "cell_type": "code",
   "execution_count": null,
   "id": "80e1bd69-b5ad-4260-8fc5-6e1cfba46e84",
   "metadata": {},
   "outputs": [],
   "source": [
    "\n",
    "## SOLO FUNCIONA CON VALORES NUMERICOS\n",
    "def Combinar_Diccionarios(d1, d2):\n",
    "    resultado = d1.copy()\n",
    "    for clave, valor in d2.items():\n",
    "        if clave in resultado: \n",
    "            resultado[clave] += valor\n",
    "        else:\n",
    "            resultado[clave] = valor\n",
    "        return resultado\n",
    "\n",
    "diccionario1 = {\n",
    "    \"id\": 101,\n",
    "    \"nombre\": \"Juan Pérez\",\n",
    "    \"edad\": 25,\n",
    "    \"ciudad\": \"Madrid\"\n",
    "}\n",
    "\n",
    "diccionario2 = {\n",
    "    \"id\": 101,\n",
    "    \"nombre\": \"Juan Pérez\",\n",
    "    \"carrera\": \"Ingeniería en Sistemas\",\n",
    "    \"ciudad\": \"Barcelona\"\n",
    "}\n",
    "\n",
    "Combinar_Diccionarios(diccionario1, diccionario2)\n"
   ]
  },
  {
   "cell_type": "code",
   "execution_count": 103,
   "id": "f1ac1237-754c-4443-977e-17cbdeb69529",
   "metadata": {},
   "outputs": [
    {
     "name": "stdout",
     "output_type": "stream",
     "text": [
      "{101: 'id', 'Juan Pérez': 'nombre', 25: 'edad', 'Madrid': 'ciudad'}\n"
     ]
    }
   ],
   "source": [
    "def Invertir_Valores(dict1):\n",
    "    resultado = dict()\n",
    "    for k,v in dict1.items():\n",
    "        resultado[v] = k\n",
    "    return print(resultado)\n",
    "\n",
    "diccionario1 = {\n",
    "    \"id\": 101,\n",
    "    \"nombre\": \"Juan Pérez\",\n",
    "    \"edad\": 25,\n",
    "    \"ciudad\": \"Madrid\"\n",
    "}\n",
    "Invertir_Valores(diccionario1)"
   ]
  },
  {
   "cell_type": "markdown",
   "id": "848dcc51-8e1c-4f15-84ac-8161bd7cace3",
   "metadata": {},
   "source": [
    "### SETS"
   ]
  },
  {
   "cell_type": "code",
   "execution_count": 109,
   "id": "c447d2ee-08ea-444e-a3e2-4c0a26ab8afd",
   "metadata": {},
   "outputs": [
    {
     "name": "stdout",
     "output_type": "stream",
     "text": [
      "{1, 2, 3, 4, 5, 6, 7, 8}\n"
     ]
    }
   ],
   "source": [
    "def Combinacion_Conjuntos(c1,c2):\n",
    "    return print(c1|c2)\n",
    "\n",
    "conjunto1 = {1, 2, 3, 4, 5}\n",
    "conjunto2 = {4, 5, 6, 7, 8}\n",
    "\n",
    "Combinacion_Conjuntos(conjunto1,conjunto2)"
   ]
  },
  {
   "cell_type": "code",
   "execution_count": 119,
   "id": "5fb0032f-a243-4046-a70b-f85ce9749350",
   "metadata": {},
   "outputs": [
    {
     "data": {
      "text/plain": [
       "{1, 2, 3}"
      ]
     },
     "execution_count": 119,
     "metadata": {},
     "output_type": "execute_result"
    }
   ],
   "source": [
    "def Diferencia_Conjuntos(c1,c2):\n",
    "    return c1 - c2\n",
    "\n",
    "c1 = {1, 2, 3, 4, 5}\n",
    "c2 = {4, 5, 6, 7, 8}\n",
    "\n",
    "Diferencia_Conjuntos(c1, c2)"
   ]
  },
  {
   "cell_type": "code",
   "execution_count": null,
   "id": "91fec44e-e023-4013-9310-e4b918b0270d",
   "metadata": {},
   "outputs": [],
   "source": [
    "def Interseccion_Conjuntos(lista):\n",
    "    for i in range(len(lista)):\n",
    "        \n",
    "lista_de_conjuntos = [\n",
    "    {1, 2, 3, 4, 5},\n",
    "    {4, 5, 6, 7},\n",
    "    {5, 7, 8, 9},\n",
    "    {10, 11, 5}\n",
    "]\n",
    "Interseccion_Conjuntos(lista_de_conjuntos)"
   ]
  }
 ],
 "metadata": {
  "kernelspec": {
   "display_name": "Python [conda env:base] *",
   "language": "python",
   "name": "conda-base-py"
  },
  "language_info": {
   "codemirror_mode": {
    "name": "ipython",
    "version": 3
   },
   "file_extension": ".py",
   "mimetype": "text/x-python",
   "name": "python",
   "nbconvert_exporter": "python",
   "pygments_lexer": "ipython3",
   "version": "3.12.7"
  }
 },
 "nbformat": 4,
 "nbformat_minor": 5
}
