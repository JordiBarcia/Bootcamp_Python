{
 "cells": [
  {
   "cell_type": "code",
   "execution_count": 11,
   "id": "327021ed-4efb-4fe6-a63f-c8924a200331",
   "metadata": {},
   "outputs": [
    {
     "name": "stdout",
     "output_type": "stream",
     "text": [
      "Juan, 45, 12354568j\n",
      "El DNI de Juan, de edad 45 es 12354568j\n"
     ]
    },
    {
     "data": {
      "text/plain": [
       "'Es mayor de edad'"
      ]
     },
     "execution_count": 11,
     "metadata": {},
     "output_type": "execute_result"
    }
   ],
   "source": [
    "class Persona(): ## En cada metodo de la clase se le tiene que pasar self\n",
    "    def __init__(self, nombre = '', edad = 0, dni = ''):\n",
    "        self.__nombre = nombre\n",
    "        self.__edad = edad\n",
    "        self.__dni = dni\n",
    "\n",
    "    @property\n",
    "    def nombre(self):\n",
    "        return self.__nombre # '__' hace el atributo privado\n",
    "    @property\n",
    "    def edad(self):\n",
    "        return self.__edad\n",
    "    @property\n",
    "    def dni(self):\n",
    "        return self.__dni\n",
    "\n",
    "    @nombre.setter\n",
    "    def nombre(self,nombre):\n",
    "        self.__nombre = nombre\n",
    "    @edad.setter\n",
    "    def edad(self, edad):\n",
    "        self.__edad = edad\n",
    "    @dni.setter\n",
    "    def dni(self, dni):\n",
    "        self.__dni = dni\n",
    "    \n",
    "    def __str__(self):\n",
    "        return print(f'{self.__nombre}, {self.__edad}, {self.__dni}')\n",
    "    \n",
    "    def mostrar(self):\n",
    "        return print(f'El DNI de {self.__nombre} edad {self.__edad} es {self.__dni}')\n",
    "    \n",
    "    def esMayorDeEdad(self):\n",
    "        return 'Es mayor de edad' if self.__edad >= 18 else 'Es menor de edad'\n",
    "\n",
    "\n",
    "p1 = Persona('Juan', 45, 12354568J)\n",
    "print(p1)\n",
    "p1.mostrar()\n",
    "p1.esMayorDeEdad()"
   ]
  },
  {
   "cell_type": "code",
   "execution_count": 41,
   "id": "5a55f90b-3515-424b-894c-5533cba28e54",
   "metadata": {},
   "outputs": [
    {
     "name": "stdout",
     "output_type": "stream",
     "text": [
      "100.0\n",
      "-700.0\n",
      "Juan, -700.0\n"
     ]
    }
   ],
   "source": [
    "##Ejercicio 2\n",
    "class Cuenta():\n",
    "    def __init__(self, titular, cantidad = 0):\n",
    "        self.__titular = titular\n",
    "        self.__cantidad = float(cantidad)\n",
    "\n",
    "    @property\n",
    "    def titular(self):\n",
    "        return self.__titular\n",
    "\n",
    "    @property\n",
    "    def cantidad(self):\n",
    "        return self.__cantidad\n",
    "\n",
    "    \n",
    "\n",
    "    def __str__(self):\n",
    "        return (f'{self.__titular}, {self.__cantidad}')\n",
    "\n",
    "    def mostrar(self):\n",
    "        return f'Datos de la cuenta: {self.__titular}, {self.__cantidad}'\n",
    "\n",
    "    def ingresar(self, cantidad):\n",
    "        if cantidad >= 0:\n",
    "            self.__cantidad += cantidad\n",
    "            return self.__cantidad \n",
    "        else:\n",
    "            'No se ha podido realizar la operacion'\n",
    "\n",
    "    def retirar(self, cantidad):\n",
    "        self.__cantidad -= cantidad \n",
    "        return self.__cantidad \n",
    "\n",
    "c1 = Cuenta('Juan')\n",
    "print(c1.ingresar(100))\n",
    "print(c1.retirar(800))\n",
    "print(c1)"
   ]
  },
  {
   "cell_type": "code",
   "execution_count": 9,
   "id": "84a4e3ac-928e-4bae-8255-50a3b5a6d91c",
   "metadata": {},
   "outputs": [
    {
     "name": "stdout",
     "output_type": "stream",
     "text": [
      "Coche acelerando\n",
      "Bicicleta acelerando\n",
      "Coche acelerando\n",
      "Bicicleta acelerando\n"
     ]
    }
   ],
   "source": [
    "class Vehiculo():\n",
    "    def acelerar(self):\n",
    "        return 'Vehiculo'\n",
    "\n",
    "class Bicicleta(Vehiculo):\n",
    "    def acelerar(self):\n",
    "        return 'Bicicleta acelerando'\n",
    "\n",
    "class Coche(Vehiculo):\n",
    "    def acelerar(self):\n",
    "        return 'Coche acelerando'\n",
    "\n",
    "lista_vehiculos = [Coche(), Bicicleta(), Coche(), Bicicleta()]\n",
    "\n",
    "for vehiculo in lista_vehiculos:\n",
    "    print(vehiculo.acelerar())"
   ]
  },
  {
   "cell_type": "code",
   "execution_count": null,
   "id": "b86d4004-a9e4-493a-81dd-19861203085d",
   "metadata": {},
   "outputs": [],
   "source": []
  }
 ],
 "metadata": {
  "kernelspec": {
   "display_name": "Python [conda env:base] *",
   "language": "python",
   "name": "conda-base-py"
  },
  "language_info": {
   "codemirror_mode": {
    "name": "ipython",
    "version": 3
   },
   "file_extension": ".py",
   "mimetype": "text/x-python",
   "name": "python",
   "nbconvert_exporter": "python",
   "pygments_lexer": "ipython3",
   "version": "3.12.7"
  }
 },
 "nbformat": 4,
 "nbformat_minor": 5
}
