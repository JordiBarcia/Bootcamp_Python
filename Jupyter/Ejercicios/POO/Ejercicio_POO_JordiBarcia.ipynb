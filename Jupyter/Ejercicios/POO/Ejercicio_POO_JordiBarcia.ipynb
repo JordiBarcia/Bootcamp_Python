{
 "cells": [
  {
   "cell_type": "code",
   "execution_count": 7,
   "id": "823e0952-3c7c-42e4-9d9e-302ed95996ec",
   "metadata": {},
   "outputs": [
    {
     "name": "stdout",
     "output_type": "stream",
     "text": [
      "El producto es Agua, con precio de 2.99€\n",
      "El producto es Ordenador, con precio de 699€ y una garantia de 3\n",
      "El producto es Camisa, con precio de 15.99€ y de talla L\n"
     ]
    }
   ],
   "source": [
    "#Ejercicio 1\n",
    "\n",
    "class Producto():\n",
    "    def __init__(self, nombre, precio):\n",
    "        self.nombre = nombre\n",
    "        self.precio = precio\n",
    "        return\n",
    "    \n",
    "    def descripcion(self):\n",
    "        return print(f'El producto es {self.nombre}, con precio de {self.precio}€')\n",
    "\n",
    "class Electronico(Producto):\n",
    "    def __init__(self, nombre, precio, garantia):\n",
    "        super().__init__(nombre, precio)\n",
    "        self.garantia = garantia\n",
    "        return\n",
    "\n",
    "    def info_electronico(self):\n",
    "        return print(f'El producto es {self.nombre}, con precio de {self.precio}€ y una garantia de {self.garantia}')\n",
    "\n",
    "class Ropa(Producto):\n",
    "    def __init__(self, nombre, precio, talla):\n",
    "        super().__init__(nombre, precio)\n",
    "        self.talla = talla\n",
    "        return\n",
    "\n",
    "    def info_ropa(self):\n",
    "        return print(f'El producto es {self.nombre}, con precio de {self.precio}€ y de talla {self.talla}')\n",
    "\n",
    "p = Producto('Agua', 2.99)\n",
    "pe = Electronico('Ordenador', 699, 3)\n",
    "pr = Ropa('Camisa', 15.99, 'L')\n",
    "\n",
    "p.descripcion()\n",
    "pe.info_electronico()\n",
    "pr.info_ropa()"
   ]
  },
  {
   "cell_type": "code",
   "execution_count": 25,
   "id": "cdcddf54-677e-4b7c-a66c-3a1b6d65fb23",
   "metadata": {},
   "outputs": [
    {
     "name": "stdout",
     "output_type": "stream",
     "text": [
      "1000\n",
      "1500\n",
      "1100\n"
     ]
    }
   ],
   "source": [
    "# Ejercicio 2\n",
    "class Empleado():\n",
    "    def __init__(self, nombre, salario_base):\n",
    "        self.nombre = nombre\n",
    "        self.salario_base = salario_base\n",
    "        return\n",
    "    def calcular_salario(self):\n",
    "        return self.salario_base\n",
    "\n",
    "class Gerente(Empleado):\n",
    "    def __init__(self, nombre, salario_base, bonificacion):\n",
    "        super().__init__(nombre, salario_base)\n",
    "        self.bonificacion = bonificacion\n",
    "    def calcular_salario(self):\n",
    "        salario = self.salario_base + self.bonificacion\n",
    "        return salario\n",
    "\n",
    "class Operario(Empleado):\n",
    "    def __init__(self, nombre, salario_base, horas_extras):\n",
    "        super().__init__(nombre, salario_base)\n",
    "        self.horas_extras = horas_extras\n",
    "        return\n",
    "    def calcular_salario(self):\n",
    "        salario = self.salario_base + (self.horas_extras * 20)\n",
    "        return salario\n",
    "\n",
    "e = Empleado('Juan', 1000)\n",
    "g = Gerente('Jose', 1000, 500)\n",
    "o = Operario('Felipe', 1000, 5)\n",
    "\n",
    "print(e.calcular_salario())\n",
    "print(g.calcular_salario())\n",
    "print(o.calcular_salario())\n"
   ]
  },
  {
   "cell_type": "code",
   "execution_count": 59,
   "id": "3ee9ae83-955a-44f1-aa39-8de649f7c65a",
   "metadata": {},
   "outputs": [
    {
     "name": "stdout",
     "output_type": "stream",
     "text": [
      "['Vigilar el patio']\n",
      "Soy estudiante del grado 2n Batch\n",
      "Soy profesor de la materia Catalan\n",
      "Soy el director\n",
      "Soy estudiante del grado I4\n"
     ]
    }
   ],
   "source": [
    "#Ejercicio 3\n",
    "class Persona():\n",
    "    def __init__(self, nombre, edad):\n",
    "        self.nombre = nombre\n",
    "        self.edad = edad\n",
    "        return\n",
    "    def rol(self):\n",
    "        return 'Esta persona tiene un rol en la escuela'\n",
    "\n",
    "class Estudiante(Persona):\n",
    "    def __init__(self, nombre, edad, grado):\n",
    "        super().__init__(nombre, edad)\n",
    "        self.grado = grado\n",
    "        return\n",
    "    def rol(self):\n",
    "        return f'Soy estudiante del grado {self.grado}'\n",
    "\n",
    "class Profesor(Persona):\n",
    "    def __init__(self, nombre, edad, materia):\n",
    "        super().__init__(nombre, edad)\n",
    "        self.materia = materia\n",
    "        return\n",
    "    def rol(self):\n",
    "        return f'Soy profesor de la materia {self.materia}'\n",
    "\n",
    "class Director(Persona):    \n",
    "    \n",
    "    def __init__(self, nombre, edad):\n",
    "        super().__init__(nombre, edad)\n",
    "        self.responsabilidades = []\n",
    "        return\n",
    "    \n",
    "    def asignar_responsabilidad(self, tarea):\n",
    "        self.responsabilidades.append(tarea)\n",
    "        return self.responsabilidades\n",
    "    \n",
    "    def rol(self):\n",
    "        return 'Soy el director'\n",
    "\n",
    "\n",
    "personas = [Estudiante('Alba', 16, '2n Batch'), Profesor('Alberto', 56, 'Catalan'), Director('Maria', 45), Estudiante('Miguel', 4, 'I4')]\n",
    "\n",
    "d = Director('Jose', 64)\n",
    "d.asignar_responsabilidad('Vigilar el patio')\n",
    "print(d.responsabilidades)\n",
    "\n",
    "for persona in personas:\n",
    "    print(persona.rol())"
   ]
  },
  {
   "cell_type": "code",
   "execution_count": 75,
   "id": "af2c7ad7-3542-422e-a0e9-3d31794c5a06",
   "metadata": {},
   "outputs": [
    {
     "name": "stdout",
     "output_type": "stream",
     "text": [
      "Vehiculo de la marca Nissan, modelo Kaskai, Numero de ruedas 4\n"
     ]
    }
   ],
   "source": [
    "# Ejercicio 4\n",
    "\n",
    "class Vehiculo():\n",
    "    def __init__(self, marca, modelo):\n",
    "        self.marca = marca\n",
    "        self.modelo = modelo\n",
    "        return\n",
    "    def info(self):\n",
    "        return f'Vehiculo de la marca {self.marca}, modelo {self.modelo}'\n",
    "\n",
    "class Terrestre(Vehiculo):\n",
    "    def __init__(self, marca, modelo, num_ruedas):\n",
    "        super().__init__(marca, modelo)\n",
    "        self.num_ruedas = num_ruedas\n",
    "        return\n",
    "    def terrestre_info(self):\n",
    "        return f'Numero de ruedas {self.num_ruedas}'\n",
    "\n",
    "class Maritimo(Vehiculo):\n",
    "    def __init__(self, marca, modelo, capacidad_litros):\n",
    "        super().__init__(marca, modelo)\n",
    "        self.capacidad_litros = capacidad_litros\n",
    "        return\n",
    "    def maritimo_info(self):\n",
    "        return f'Capacidad de litros {self.capacidad_litros}'\n",
    "\n",
    "class Amfibio(Terrestre):\n",
    "    def __init__(self, marca, modelo, num_ruedas):\n",
    "        super().__init__(marca, modelo, num_ruedas)\n",
    "        return\n",
    "    def info_completa(self):\n",
    "        info_vehiculo = self.info()\n",
    "        info_terrestre = self.terrestre_info()\n",
    "        return f'{info_vehiculo}, {info_terrestre}'\n",
    "\n",
    "a = Amfibio('Nissan', 'Kaskai', 4)\n",
    "\n",
    "print(a.info_completa())"
   ]
  },
  {
   "cell_type": "code",
   "execution_count": null,
   "id": "22ad9f57-21cd-4f89-b742-6c00f1d45f1d",
   "metadata": {},
   "outputs": [],
   "source": []
  }
 ],
 "metadata": {
  "kernelspec": {
   "display_name": "Python [conda env:base] *",
   "language": "python",
   "name": "conda-base-py"
  },
  "language_info": {
   "codemirror_mode": {
    "name": "ipython",
    "version": 3
   },
   "file_extension": ".py",
   "mimetype": "text/x-python",
   "name": "python",
   "nbconvert_exporter": "python",
   "pygments_lexer": "ipython3",
   "version": "3.12.7"
  }
 },
 "nbformat": 4,
 "nbformat_minor": 5
}
