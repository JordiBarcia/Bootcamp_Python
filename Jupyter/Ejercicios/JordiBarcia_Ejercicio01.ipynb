{
 "cells": [
  {
   "cell_type": "code",
   "execution_count": 13,
   "id": "85910acf-439a-4e43-a5cd-1ba6d8e2b47c",
   "metadata": {},
   "outputs": [
    {
     "name": "stdin",
     "output_type": "stream",
     "text": [
      "Que edad tienes? 18\n"
     ]
    },
    {
     "name": "stdout",
     "output_type": "stream",
     "text": [
      "Mayor de edad\n"
     ]
    }
   ],
   "source": [
    "## EX 1\n",
    "edad = int(input(\"Que edad tienes?\"))\n",
    "if edad >= 18:\n",
    "    print('Mayor de edad')\n",
    "else: print('Menor de edad')\n",
    "\n",
    "## Ternaria \n",
    "'Eres menor de edad' if edad < 18 else 'Eres mayor de edad'\n"
   ]
  },
  {
   "cell_type": "code",
   "execution_count": 3,
   "id": "1c59d1d6-de4c-4a50-9fb9-ed6dbde93183",
   "metadata": {},
   "outputs": [
    {
     "name": "stdin",
     "output_type": "stream",
     "text": [
      "Escribe la contraseña:  12345m\n"
     ]
    },
    {
     "name": "stdout",
     "output_type": "stream",
     "text": [
      "Contraseña correcta\n"
     ]
    }
   ],
   "source": [
    "## EX 2\n",
    "contr_usuario = input(\"Escribe la contraseña: \")\n",
    "contr_guardada = ('12345m')\n",
    "print('Contraseña correcta') if contr_usuario.lower() == contr_guardada.lower() else print('Vuelve a intentar') ## Ternaria"
   ]
  },
  {
   "cell_type": "code",
   "execution_count": 19,
   "id": "6f1e92b8-b5ba-42a9-8395-85d75dee575f",
   "metadata": {},
   "outputs": [
    {
     "name": "stdin",
     "output_type": "stream",
     "text": [
      "Dame un numerador:  10\n",
      "Dame un divisor:  5\n"
     ]
    },
    {
     "name": "stdout",
     "output_type": "stream",
     "text": [
      "2.0\n"
     ]
    }
   ],
   "source": [
    "##### EX 3\n",
    "print('Error') if (numerador := int(input('Dame un numerador: '))) == 0 or (divisor := int(input('Dame un divisor: '))) == 0 else print(numerador/divisor)"
   ]
  },
  {
   "cell_type": "code",
   "execution_count": 25,
   "id": "d62ba4d9-c088-4044-bec1-c5868ea683f3",
   "metadata": {},
   "outputs": [
    {
     "name": "stdin",
     "output_type": "stream",
     "text": [
      "Dime un numero entero:  5\n"
     ]
    },
    {
     "name": "stdout",
     "output_type": "stream",
     "text": [
      "5 es numero impar\n"
     ]
    }
   ],
   "source": [
    "## EX 4\n",
    "print(f'{numero} es numero par') if (numero := int(input('Dime un numero entero: '))) % 2 == 0 else print(f'{numero} es numero impar')\n"
   ]
  },
  {
   "cell_type": "code",
   "execution_count": 27,
   "id": "89149278-dd68-4d22-901c-d2213e5ceb4c",
   "metadata": {},
   "outputs": [
    {
     "name": "stdin",
     "output_type": "stream",
     "text": [
      "Que edad tienes? 50\n",
      "Que salario tienes? 120\n"
     ]
    },
    {
     "name": "stdout",
     "output_type": "stream",
     "text": [
      "No hay que pagar impuesto\n"
     ]
    }
   ],
   "source": [
    "## EX 5 #Contrabarra es salto de linea par mejor legibilidad\n",
    "print('Pagar impuesto') if \\\n",
    "(edad := int(input('Que edad tienes?'))) > 16 and (salario := int(input('Que salario tienes?'))) >= 1000 else print('No hay que pagar impuesto')\n"
   ]
  },
  {
   "cell_type": "code",
   "execution_count": 31,
   "id": "ee3a8e82-8cb0-410e-bb7e-c5a1dc2e533b",
   "metadata": {},
   "outputs": [
    {
     "name": "stdin",
     "output_type": "stream",
     "text": [
      "Eres hombre (H) o mujer (M): H\n",
      "Como te llamas?  L\n"
     ]
    },
    {
     "name": "stdout",
     "output_type": "stream",
     "text": [
      "Eres del grupo B\n"
     ]
    }
   ],
   "source": [
    "## EX 6\n",
    "sexo = input('Eres hombre (H) o mujer (M):').upper()\n",
    "nombre = input('Como te llamas? ').upper()\n",
    "if (sexo == 'H' and nombre[0] > 'N') or (sexo == 'M' and nombre[0] < 'M'):\n",
    "    print('Eres del grupo A')\n",
    "else: print('Eres del grupo B')\n",
    "    "
   ]
  },
  {
   "cell_type": "code",
   "execution_count": 49,
   "id": "df159ba8-7e70-475b-bf88-396082723057",
   "metadata": {},
   "outputs": [
    {
     "name": "stdin",
     "output_type": "stream",
     "text": [
      "Dime tu renta anual:  45000\n"
     ]
    },
    {
     "name": "stdout",
     "output_type": "stream",
     "text": [
      "Tu tipo de impositivo es del 30% total a pagar: 13500.0\n"
     ]
    }
   ],
   "source": [
    "## EX 7\n",
    "renta = int(input('Dime tu renta anual: '))\n",
    "if renta < 10000:\n",
    "    print(f'Tu tipo de impositivo es del 5%, total a pagar: {renta * 0.05}')\n",
    "elif 10000 <= renta < 20000:\n",
    "    print(f'Tu tipo de impositivo es del 15% total a pagar: {renta * 0.15}')\n",
    "elif 20000 <= renta < 35000:\n",
    "    print(f'Tu tipo de impositivo es del 20% total a pagar: {renta * 0.20}')\n",
    "elif 35000 <= renta < 60000:\n",
    "    print(f'Tu tipo de impositivo es del 30% total a pagar: {renta * 0.30}')\n",
    "else: print(f'Tu tipo de impositivo es del 45%  total a pagar: {renta * 0.45}')\n"
   ]
  },
  {
   "cell_type": "code",
   "execution_count": 45,
   "id": "f438f1a5-075f-4786-9cac-c73a83ccb37e",
   "metadata": {},
   "outputs": [
    {
     "name": "stdin",
     "output_type": "stream",
     "text": [
      "Puntuacion del usuario de 0 a 1:  0.4\n"
     ]
    },
    {
     "name": "stdout",
     "output_type": "stream",
     "text": [
      "Nivel Aceptable, puntuacion de 0.4, ingresos de 3360.0\n"
     ]
    }
   ],
   "source": [
    "## EX 8\n",
    "puntuacion = float(input('Puntuacion del usuario de 0 a 1: '))\n",
    "if puntuacion == 0.0:\n",
    "    print(f'Nivel inaceptable, puntuacion de 0.0, ingresos de {2400}')\n",
    "elif puntuacion == 0.4:\n",
    "    print(f'Nivel Aceptable, puntuacion de {puntuacion}, ingresos de {(puntuacion + 1) * 2400}')\n",
    "elif puntuacion >= 0.6:\n",
    "    print(f'Nivel Meritorio, puntuacion de {puntuacion}, ingresos de {(puntuacion + 1) * 2400}')"
   ]
  },
  {
   "cell_type": "code",
   "execution_count": 63,
   "id": "5fbb4b75-5d13-45a4-b39f-55a75ce4c8ee",
   "metadata": {},
   "outputs": [
    {
     "name": "stdin",
     "output_type": "stream",
     "text": [
      "Cual es la edad del cliente?  55\n"
     ]
    },
    {
     "name": "stdout",
     "output_type": "stream",
     "text": [
      "El precio de la entrada es de 10€\n"
     ]
    }
   ],
   "source": [
    "## EX 9\n",
    "edad_cliente = abs(int(input('Cual es la edad del cliente? ')))\n",
    "if edad_cliente < 4:\n",
    "    print('La entrada es gratuita')\n",
    "elif 4 <= edad_cliente < 18:\n",
    "    print('El precio de la entrada es de 5€')\n",
    "else: print('El precio de la entrada es de 10€')"
   ]
  },
  {
   "cell_type": "code",
   "execution_count": 59,
   "id": "10a23321-60ad-4a46-9110-6948d272dd6a",
   "metadata": {},
   "outputs": [
    {
     "name": "stdin",
     "output_type": "stream",
     "text": [
      "Quieres una pizza vegetariana? (S/N) N\n"
     ]
    },
    {
     "name": "stdout",
     "output_type": "stream",
     "text": [
      "('Peperoni', 'Jamon', 'Salmon')\n"
     ]
    },
    {
     "name": "stdin",
     "output_type": "stream",
     "text": [
      "Que ingrediente quieres añadir?  Jamon\n"
     ]
    },
    {
     "name": "stdout",
     "output_type": "stream",
     "text": [
      "Vegetariana: N, con Jamon, tomate y mozzarella\n"
     ]
    }
   ],
   "source": [
    "## EX 10\n",
    "ingr_veg = ('Pimiento','Tofu')\n",
    "ingr_no_veg = ('Peperoni','Jamon','Salmon')\n",
    "pedido = input('Quieres una pizza vegetariana? (S/N)').upper()\n",
    "if pedido == 'S':\n",
    "    print(ingr_veg)\n",
    "    ingrediente = input('Que ingrediente quieres añadir? ')\n",
    "    if ingrediente in ingr_veg:\n",
    "        print(f'Vegetariana: {pedido}, con {ingrediente}, tomate y mozzarella')\n",
    "    else: print('El ingrediente no esta en la lista')\n",
    "elif pedido == 'N':\n",
    "    print(ingr_no_veg)\n",
    "    ingrediente = input('Que ingrediente quieres añadir? ')\n",
    "    if ingrediente in ingr_no_veg:\n",
    "        print(f'Vegetariana: {pedido}, con {ingrediente}, tomate y mozzarella')\n",
    "    else: print('El ingrediente no esta en la lista')\n",
    "else: print('Respuesta no valida')"
   ]
  },
  {
   "cell_type": "code",
   "execution_count": 76,
   "id": "8d632fbe-88be-4df1-90b4-f0c5fec7e106",
   "metadata": {},
   "outputs": [
    {
     "name": "stdout",
     "output_type": "stream",
     "text": [
      "1\n"
     ]
    }
   ],
   "source": [
    "rediduo = 1 % 3\n",
    "print(rediduo)"
   ]
  },
  {
   "cell_type": "code",
   "execution_count": null,
   "id": "89df20e9-245a-4a82-aa4c-9cf428b5c9a5",
   "metadata": {},
   "outputs": [],
   "source": []
  },
  {
   "cell_type": "code",
   "execution_count": null,
   "id": "b6022796-54db-429c-9fc1-d30509a18dc9",
   "metadata": {},
   "outputs": [],
   "source": []
  }
 ],
 "metadata": {
  "kernelspec": {
   "display_name": "Python [conda env:base] *",
   "language": "python",
   "name": "conda-base-py"
  },
  "language_info": {
   "codemirror_mode": {
    "name": "ipython",
    "version": 3
   },
   "file_extension": ".py",
   "mimetype": "text/x-python",
   "name": "python",
   "nbconvert_exporter": "python",
   "pygments_lexer": "ipython3",
   "version": "3.12.7"
  }
 },
 "nbformat": 4,
 "nbformat_minor": 5
}
